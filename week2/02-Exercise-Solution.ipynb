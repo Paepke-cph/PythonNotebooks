{
 "cells": [
  {
   "cell_type": "markdown",
   "metadata": {},
   "source": [
    "## Exercise 1 description:\n",
    "- Create a program that can take an input and an output file and write the content of the input file into a list, the console or to the output file.\n",
    "\n",
    "1. Write a python file with 3 functions:\n",
    "  1. `def print_file_content(file)` that can print content of a text file to the console\n",
    "  2. `def write_list_to_file(output_file, lst)` that can take a list or tuple and write each element to a new line in file\n",
    "    1. create a helper function that gets an arbitrary number of strings instead of a list\n",
    "  3. `def read_file(input_file)` that take a csv file and read each row into a list\n",
    "2. Add a functionality so that the program can be called from cli with 2 arguments\n",
    "  1. path to input file\n",
    "  2. an argument `--file file_name` to be used as the output file to write to.\n",
    "  3. if only the input file is given write output to console\n",
    "  4. if the input file is given with a list of extra words add those words to the output (whether to file or console)\n",
    "3. Add 'help' attributes to each cli argument to describe how the module is used  \n",
    "\n",
    "## Exercise 2 description:\n",
    "- Create a module called utils.py and put the following functions inside:\n",
    "  1. first function takes a path to a folder and writes all filenames in the folder to a specified output file\n",
    "  2. second takes a path to a folder and write all filenames recursively (files of all sub folders to)\n",
    "  3. third takes a list of filenames and print the first line of each\n",
    "  4. fourth takes a list of filenames and print each line that contains an email (just look for @)\n",
    "  5. fifth takes a list of md files and writes all headlines (lines starting with #) to a file\n",
    "- Make sure your module can be called both from cli and imported to another module\n",
    "- Create a new module that imports utils.py and test each function."
   ]
  },
  {
   "cell_type": "markdown",
   "metadata": {},
   "source": [
    "# Exercise 1"
   ]
  },
  {
   "cell_type": "code",
   "execution_count": 10,
   "metadata": {
    "tags": []
   },
   "outputs": [
    {
     "output_type": "stream",
     "name": "stdout",
     "text": "{\n  \"shell_port\": 9002,\n  \"iopub_port\": 9004,\n  \"stdin_port\": 9003,\n  \"control_port\": 9001,\n  \"hb_port\": 9000,\n  \"ip\": \"127.0.0.1\",\n  \"key\": \"467b08a8-1d7a-4a59-81da-3816bef77001\",\n  \"transport\": \"tcp\",\n  \"signature_scheme\": \"hmac-sha256\",\n  \"kernel_name\": \"\"\n}\n--ip=127.0.0.1\n\n--stdin=9003\n\n--control=9001\n\n--hb=9000\n\n--Session.signature_scheme=\"hmac-sha256\"\n\n--Session.key=b\"467b08a8-1d7a-4a59-81da-3816bef77001\"\n\n--shell=9002\n\n--transport=\"tcp\"\n\n--iopub=9004\n\n"
    }
   ],
   "source": [
    "import sys\n",
    "import argparse\n",
    "\n",
    "# Simply prints the content of the file to the console\n",
    "def print_file_content(file):\n",
    "    for line in file:\n",
    "        print(line.rstrip())\n",
    "\n",
    "def helper(output_file, *lines):\n",
    "    with open(output_file, \"w\") as file_object:\n",
    "        for line in lines:\n",
    "            if type(line) is list:\n",
    "                for element in line:\n",
    "                    if not element.endswith(\"\\n\"):\n",
    "                        file_object.write(element + \"\\n\")\n",
    "                    else:\n",
    "                        file_object.write(element)\n",
    "            else:\n",
    "                file_object.write(line)\n",
    "\n",
    "# Writes a list of strings to the output_file.\n",
    "def write_list_to_file(output_file,lst):\n",
    "    with open(output_file, \"w\") as file_object:\n",
    "        for line in lst:\n",
    "            file_object.write(line)\n",
    "\n",
    "# Reads an entire file to a list of strings.\n",
    "def read_file(input_file):\n",
    "    with open(input_file) as file_object:\n",
    "        contents = file_object.readlines()\n",
    "        return(contents)\n",
    "\n",
    "if __name__ == \"__main__\":\n",
    "    parser = argparse.ArgumentParser(description=\"A Program that reads a file from CLI and writes it to the console and an output-file\")\n",
    "    parser.add_argument('--output', help=\"Name of the file to which the output will be written to.\")\n",
    "    parser.add_argument('--file', default=\"input.txt\", help=\"Name of the file which should be opend.\")\n",
    "    args, unknown = parser.parse_known_args()\n",
    "    file = read_file(args.file)\n",
    "    if(args.output == None):\n",
    "        print_file_content(file)\n",
    "        for element in unknown:\n",
    "            print(element + \"\\n\")\n",
    "    else:\n",
    "        helper(args.output, file, unknown)"
   ]
  },
  {
   "cell_type": "code",
   "execution_count": 11,
   "metadata": {
    "tags": []
   },
   "outputs": [
    {
     "output_type": "stream",
     "name": "stdout",
     "text": "{\n  \"shell_port\": 9002,\n  \"iopub_port\": 9004,\n  \"stdin_port\": 9003,\n  \"control_port\": 9001,\n  \"hb_port\": 9000,\n  \"ip\": \"127.0.0.1\",\n  \"key\": \"467b08a8-1d7a-4a59-81da-3816bef77001\",\n  \"transport\": \"tcp\",\n  \"signature_scheme\": \"hmac-sha256\",\n  \"kernel_name\": \"\"\n}\n"
    }
   ],
   "source": [
    "!cat ~/my_notebooks/week2/out.txt"
   ]
  },
  {
   "cell_type": "markdown",
   "metadata": {},
   "source": [
    "# Exercise 2"
   ]
  },
  {
   "cell_type": "code",
   "execution_count": 12,
   "metadata": {
    "tags": []
   },
   "outputs": [
    {
     "output_type": "stream",
     "name": "stdout",
     "text": "1.txt\n\n1.txt\n\nthisMail@gmail.com\n\nanotherMail@gmail.com\n\nthisIsTheThirdMail@gmail.com\n"
    }
   ],
   "source": [
    "from modules.utils import *\n",
    "\n",
    "if __name__ == \"__main__\":\n",
    "    # Testing the 1st function\n",
    "    write_file_names_in_folder_to_file(\"temp\", \"dir.txt\")\n",
    "    # Testing the 2nd function\n",
    "    write_file_names_to_file_recursive(\"temp\",\"recursive.txt\")\n",
    "\n",
    "    # Testing the 3rd function\n",
    "    print_first_line([\"dir.txt\",\"recursive.txt\"])\n",
    "\n",
    "    # Testing the 4th function\n",
    "    print_line_with_email([\"emails.txt\",\"emails2.txt\",\"dir.txt\"])\n",
    "\n",
    "    # Testing the 5th function\n",
    "    write_md_headlines_to_file([\"02-Exercise-Solution.ipynb\"], \"headlines.txt\")"
   ]
  },
  {
   "cell_type": "code",
   "execution_count": 13,
   "metadata": {
    "tags": []
   },
   "outputs": [
    {
     "output_type": "stream",
     "name": "stdout",
     "text": "output from dir.txt\n1.txt\n2.txt\n3.txt\n4.txt\n5.txt\noutput from recursive.txt\n1.txt\n2.txt\n3.txt\n4.txt\n5.txt\n2.1.txt\n2.2.txt\n2.3.txt\n2.4.txt\n2.5.txt\n3.1.txt\n3.2.txt\n3.3.txt\n3.4.txt\n3.5.txt\noutput from headlines.txt\n    \"## Exercise 1 description:\\n\",\n\n    \"## Exercise 2 description:\\n\",\n\n    \"  5. fifth takes a list of md files and writes all headlines (lines starting with #) to a file\\n\",\n\n    \"# Exercise 1\"\n\n    \"# Simply prints the content of the file to the console\\n\",\n\n    \"# Writes a list of strings to the output_file.\\n\",\n\n    \"# Reads an entire file to a list of strings.\\n\",\n\n    \"# Exercise 2\"\n\n    \"    # Testing the 1st function\\n\",\n\n    \"    # Testing the 2nd function\\n\",\n\n    \"    # Testing the 3rd function\\n\",\n\n    \"    # Testing the 4th function\\n\",\n\n    \"    # Testing the 5th function\\n\",\n\n"
    }
   ],
   "source": [
    "!echo output from dir.txt\n",
    "!cat ~/my_notebooks/week2/dir.txt\n",
    "!echo output from recursive.txt\n",
    "!cat ~/my_notebooks/week2/recursive.txt\n",
    "!echo output from headlines.txt\n",
    "!cat ~/my_notebooks/week2/headlines.txt"
   ]
  },
  {
   "cell_type": "code",
   "execution_count": null,
   "metadata": {},
   "outputs": [],
   "source": []
  }
 ],
 "metadata": {
  "kernelspec": {
   "display_name": "Python 3.8.4 32-bit",
   "language": "python",
   "name": "python_defaultSpec_1599462357127"
  },
  "language_info": {
   "codemirror_mode": {
    "name": "ipython",
    "version": 3
   },
   "file_extension": ".py",
   "mimetype": "text/x-python",
   "name": "python",
   "nbconvert_exporter": "python",
   "pygments_lexer": "ipython3",
   "version": "3.7.6-final"
  },
  "varInspector": {
   "cols": {
    "lenName": 16,
    "lenType": 16,
    "lenVar": 40
   },
   "kernels_config": {
    "python": {
     "delete_cmd_postfix": "",
     "delete_cmd_prefix": "del ",
     "library": "var_list.py",
     "varRefreshCmd": "print(var_dic_list())"
    },
    "r": {
     "delete_cmd_postfix": ") ",
     "delete_cmd_prefix": "rm(",
     "library": "var_list.r",
     "varRefreshCmd": "cat(var_dic_list()) "
    }
   },
   "types_to_exclude": [
    "module",
    "function",
    "builtin_function_or_method",
    "instance",
    "_Feature"
   ],
   "window_display": false
  }
 },
 "nbformat": 4,
 "nbformat_minor": 2
}