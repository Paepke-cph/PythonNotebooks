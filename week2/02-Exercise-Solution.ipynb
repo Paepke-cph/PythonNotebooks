{
 "cells": [
  {
   "cell_type": "markdown",
   "metadata": {},
   "source": [
    "# Week Two Exercises"
   ]
  },
  {
   "cell_type": "markdown",
   "metadata": {},
   "source": [
    "## Exercise 1 description:\n",
    "- Create a program that can take an input and an output file and write the content of the input file into a list, the console or to the output file.\n",
    "\n",
    "1. Write a python file with 3 functions:\n",
    "  1. `def print_file_content(file)` that can print content of a text file to the console\n",
    "  2. `def write_list_to_file(output_file, lst)` that can take a list or tuple and write each element to a new line in file\n",
    "    1. create a helper function that gets an arbitrary number of strings instead of a list\n",
    "  3. `def read_file(input_file)` that take a csv file and read each row into a list\n",
    "2. Add a functionality so that the program can be called from cli with 2 arguments\n",
    "  1. path to input file\n",
    "  2. an argument `--file file_name` to be used as the output file to write to.\n",
    "  3. if only the input file is given write output to console\n",
    "  4. if the input file is given with a list of extra words add those words to the output (whether to file or console)\n",
    "3. Add 'help' attributes to each cli argument to describe how the module is used  \n",
    "\n",
    "## Exercise 2 description:\n",
    "- Create a module called utils.py and put the following functions inside:\n",
    "  1. first function takes a path to a folder and writes all filenames in the folder to a specified output file\n",
    "  2. second takes a path to a folder and write all filenames recursively (files of all sub folders to)\n",
    "  3. third takes a list of filenames and print the first line of each\n",
    "  4. fourth takes a list of filenames and print each line that contains an email (just look for @)\n",
    "  5. fifth takes a list of md files and writes all headlines (lines starting with #) to a file\n",
    "- Make sure your module can be called both from cli and imported to another module\n",
    "- Create a new module that imports utils.py and test each function."
   ]
  },
  {
   "cell_type": "markdown",
   "metadata": {},
   "source": [
    "# Exercise 1"
   ]
  },
  {
   "cell_type": "code",
   "execution_count": 1,
   "metadata": {
    "tags": []
   },
   "outputs": [
    {
     "output_type": "stream",
     "name": "stdout",
     "text": "1\n2\n3\n4\n5\n6\n7\n8\n9\n10\n"
    }
   ],
   "source": [
    "import sys\n",
    "import argparse\n",
    "\n",
    "# Simply prints the content of the file to the console\n",
    "def print_file_content(file):\n",
    "    for line in file:\n",
    "        print(line.rstrip())\n",
    "\n",
    "# Writes a list of strings to the output_file.\n",
    "def write_list_to_file(output_file,lst):\n",
    "    with open(output_file, \"w\") as file_object:\n",
    "        for line in lst:\n",
    "            file_object.write(line)\n",
    "\n",
    "# Reads an entire file to a list of strings.\n",
    "def read_file(input_file):\n",
    "    with open(input_file) as file_object:\n",
    "        contents = file_object.readlines()\n",
    "        return(contents)\n",
    "\n",
    "# Sets up the argument parser\n",
    "def parser_setup():\n",
    "    parser = argparse.ArgumentParser(description=\"A Program that reads a file from CLI and writes it to the console and an output-file\")\n",
    "    parser.add_argument('-out', '--output', default=\"out.txt\", help=\"Name of the file to which the output will be written to.\")\n",
    "    parser.add_argument('-in', '--input', default=\"input.txt\", help=\"Name of the file which should be opend.\")\n",
    "    return(parser.parse_args(\"\"))\n",
    "\n",
    "if __name__ == \"__main__\":\n",
    "    args = parser_setup()\n",
    "    \n",
    "    file = read_file(args.input)\n",
    "    print_file_content(file)\n",
    "    write_list_to_file(args.output, file)"
   ]
  },
  {
   "cell_type": "markdown",
   "metadata": {},
   "source": [
    "# Exercise 2\n",
    "Note that there isn't much to see in the the following cell, as it is calling the module **utils.py**."
   ]
  },
  {
   "cell_type": "code",
   "execution_count": 2,
   "metadata": {
    "tags": []
   },
   "outputs": [
    {
     "output_type": "stream",
     "name": "stdout",
     "text": "1.txt\n\n1.txt\n\nthisMail@gmail.com\n\nanotherMail@gmail.com\n\nthisIsTheThirdMail@gmail.com\n"
    }
   ],
   "source": [
    "from modules.utils import *\n",
    "\n",
    "if __name__ == \"__main__\":\n",
    "    # Testing the 1st function\n",
    "    write_file_names_in_folder_to_file(\"temp\", \"dir.txt\")\n",
    "    # Testing the 2nd function\n",
    "    write_file_names_to_file_recursive(\"temp\",\"recursive.txt\")\n",
    "\n",
    "    # Testing the 3rd function\n",
    "    print_first_line([\"dir.txt\",\"recursive.txt\"])\n",
    "\n",
    "    # Testing the 4th function\n",
    "    print_line_with_email([\"emails.txt\",\"emails2.txt\",\"dir.txt\"])\n",
    "\n",
    "    # Testing the 5th function\n",
    "    write_md_headlines_to_file([\"02-Exercise-Solution.ipynb\"], \"headlines.txt\")"
   ]
  }
 ],
 "metadata": {
  "kernelspec": {
   "display_name": "Python 3.8.4 32-bit",
   "language": "python",
   "name": "python_defaultSpec_1598864370438"
  },
  "language_info": {
   "codemirror_mode": {
    "name": "ipython",
    "version": 3
   },
   "file_extension": ".py",
   "mimetype": "text/x-python",
   "name": "python",
   "nbconvert_exporter": "python",
   "pygments_lexer": "ipython3",
   "version": "3.7.6-final"
  },
  "varInspector": {
   "cols": {
    "lenName": 16,
    "lenType": 16,
    "lenVar": 40
   },
   "kernels_config": {
    "python": {
     "delete_cmd_postfix": "",
     "delete_cmd_prefix": "del ",
     "library": "var_list.py",
     "varRefreshCmd": "print(var_dic_list())"
    },
    "r": {
     "delete_cmd_postfix": ") ",
     "delete_cmd_prefix": "rm(",
     "library": "var_list.r",
     "varRefreshCmd": "cat(var_dic_list()) "
    }
   },
   "types_to_exclude": [
    "module",
    "function",
    "builtin_function_or_method",
    "instance",
    "_Feature"
   ],
   "window_display": false
  }
 },
 "nbformat": 4,
 "nbformat_minor": 2
}