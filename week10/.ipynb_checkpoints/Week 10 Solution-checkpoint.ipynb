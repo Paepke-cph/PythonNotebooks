{
 "cells": [
  {
   "cell_type": "code",
   "execution_count": 77,
   "metadata": {},
   "outputs": [],
   "source": [
    "import requests\n",
    "import random\n",
    "import math\n",
    "import matplotlib.pyplot as plt"
   ]
  },
  {
   "cell_type": "markdown",
   "metadata": {},
   "source": [
    "# Exercise 1"
   ]
  },
  {
   "cell_type": "code",
   "execution_count": 3,
   "metadata": {},
   "outputs": [
    {
     "data": {
      "text/plain": [
       "1373"
      ]
     },
     "execution_count": 3,
     "metadata": {},
     "output_type": "execute_result"
    }
   ],
   "source": [
    "r = requests.get(\"https://raw.githubusercontent.com/Micniks/Python-Week10-Group-3-Assignments/main/Random_Names.txt\")\n",
    "open('RandomNames.txt', 'wb').write(r.content)"
   ]
  },
  {
   "cell_type": "code",
   "execution_count": 19,
   "metadata": {},
   "outputs": [
    {
     "data": {
      "text/plain": [
       "{'name': 'Peter',\n",
       " 'skills': {'stealth': 1,\n",
       "  'influence': 1,\n",
       "  'endurance': 4,\n",
       "  'lore': 3,\n",
       "  'economic': 3,\n",
       "  'strength': 5,\n",
       "  'insanity': 0}}"
      ]
     },
     "execution_count": 19,
     "metadata": {},
     "output_type": "execute_result"
    }
   ],
   "source": [
    "def recruit_cultist(name):\n",
    "    min_score = 0\n",
    "    max_score = 5\n",
    "    cultist = {\n",
    "      'name': name,\n",
    "        'skills': {\n",
    "        'stealth': random.randint(min_score, max_score), \n",
    "        'influence': random.randint(min_score, max_score), \n",
    "        'endurance': random.randint(min_score, max_score), \n",
    "        'lore': random.randint(min_score, max_score), \n",
    "        'economic': random.randint(min_score, max_score), \n",
    "        'strength': random.randint(min_score, max_score), \n",
    "        'insanity': random.randint(min_score, max_score)\n",
    "      }\n",
    "    }\n",
    "    return cultist\n",
    "\n",
    "c = recruit_cultist(\"Peter\")\n",
    "c"
   ]
  },
  {
   "cell_type": "code",
   "execution_count": 20,
   "metadata": {},
   "outputs": [],
   "source": [
    "with open('RandomNames.txt','r') as file:\n",
    "    lines = [line.replace(\"\\n\",\"\") for line in file]\n",
    "    cult = [recruit_cultist(line) for line in lines]"
   ]
  },
  {
   "cell_type": "code",
   "execution_count": 71,
   "metadata": {},
   "outputs": [],
   "source": [
    "cult_roles = {\n",
    "    'Priest': {'stealth': -1, 'influence': 3, 'endurance': 2, 'lore': 4, 'economic': 1, 'strength': 0, 'insanity': 5},\n",
    "    'Enforcer': {'stealth': 1, 'influence': 3, 'endurance': 4, 'lore': 0, 'economic': -1, 'strength': 5, 'insanity': 2},\n",
    "    'Assassin': {'stealth': 5, 'influence': -1, 'endurance': 4, 'lore': 1, 'economic': 0, 'strength': 2, 'insanity': 3},\n",
    "    'Recruiter': {'stealth': 1, 'influence': 5, 'endurance': 0, 'lore': 3, 'economic': 2, 'strength': -1, 'insanity': 4},\n",
    "    'Accountant': {'stealth': 2, 'influence': 1, 'endurance': 3, 'lore': 4, 'economic': 5, 'strength': 0, 'insanity': -1},\n",
    "    'Advisor': {'stealth': 2, 'influence': 4, 'endurance': -1, 'lore': 5, 'economic': 3, 'strength': 0, 'insanity': 1},\n",
    "    'Brute': {'stealth': -1, 'influence': 1, 'endurance': 5, 'lore': -1, 'economic': 3, 'strength': 0, 'insanity': 1}\n",
    "}"
   ]
  },
  {
   "cell_type": "code",
   "execution_count": 73,
   "metadata": {},
   "outputs": [
    {
     "data": {
      "text/plain": [
       "{'Johnathon Compton': 'Brute',\n",
       " 'Wilma Hudson': 'Assassin',\n",
       " 'Mary Harrington': 'Assassin',\n",
       " 'Thelma Blanchard': 'Assassin',\n",
       " 'Lindsey Mcgee': 'Enforcer',\n",
       " 'Harlan Ewing': 'Advisor',\n",
       " 'Cara Giles': 'Advisor',\n",
       " 'Roger Oliver': 'Brute',\n",
       " 'Herminia Munoz': 'Assassin',\n",
       " 'Fred Alvarez': 'Brute',\n",
       " 'Bud Woods': 'Assassin',\n",
       " 'Freida Case': 'Assassin',\n",
       " 'Eldridge Hatfield': 'Brute',\n",
       " 'Jan Cabrera': 'Advisor',\n",
       " 'Jermaine Pratt': 'Advisor',\n",
       " 'Lanny Huynh': 'Brute',\n",
       " 'Ulysses Mccall': 'Recruiter',\n",
       " 'Coleen Weber': 'Assassin',\n",
       " 'Trudy Gaines': 'Brute',\n",
       " 'Loyd Tapia': 'Assassin',\n",
       " 'George Gordon': 'Assassin',\n",
       " 'Nick Oconnor': 'Accountant',\n",
       " 'Latoya Gilmore': 'Brute',\n",
       " 'Eldon Pena': 'Recruiter',\n",
       " 'Tania Roberson': 'Recruiter',\n",
       " 'Allie Sanchez': 'Assassin',\n",
       " 'Weston Chang': 'Priest',\n",
       " 'Marci Salinas': 'Brute',\n",
       " 'Tasha Allison': 'Assassin',\n",
       " 'Jerri Carey': 'Assassin',\n",
       " 'Virginia Harrison': 'Assassin',\n",
       " 'April Hull': 'Accountant',\n",
       " 'Lupe Eaton': 'Enforcer',\n",
       " 'Inez Lozano': 'Advisor',\n",
       " 'Forrest Santana': 'Priest',\n",
       " 'Deloris Frank': 'Assassin',\n",
       " 'Olivia Hendrix': 'Recruiter',\n",
       " 'Granville Cannon': 'Advisor',\n",
       " 'Jefferey Weeks': 'Assassin',\n",
       " 'Noble Buck': 'Brute',\n",
       " 'Gracie Benitez': 'Recruiter',\n",
       " 'Levi Peterson': 'Assassin',\n",
       " 'Reginald Odom': 'Enforcer',\n",
       " 'Brain Wiley': 'Accountant',\n",
       " 'Mari Stanton': 'Advisor',\n",
       " 'Marcella Barrett': 'Assassin',\n",
       " 'Cecile Herrera': 'Assassin',\n",
       " 'Marty Tucker': 'Assassin',\n",
       " 'Sharron Werner': 'Brute',\n",
       " 'Fredric James': 'Accountant',\n",
       " 'Kerry Myers': 'Assassin',\n",
       " 'Herminia Pineda': 'Recruiter',\n",
       " 'Elnora Johnston': 'Assassin',\n",
       " 'Sonja Maddox': 'Brute',\n",
       " 'Irwin Schwartz': 'Assassin',\n",
       " 'Jame Stark': 'Enforcer',\n",
       " 'Katelyn Maxwell': 'Assassin',\n",
       " 'Janine Haas': 'Assassin',\n",
       " 'Heather Morales': 'Assassin',\n",
       " 'Garret Shaffer': 'Assassin',\n",
       " 'Jillian Salas': 'Accountant',\n",
       " 'Rachel Rosario': 'Brute',\n",
       " 'Morgan Anderson': 'Recruiter',\n",
       " 'Carlos Chapman': 'Brute',\n",
       " 'Earnestine Dickson': 'Assassin',\n",
       " 'Arline Brock': 'Advisor',\n",
       " 'Roger Neal': 'Assassin',\n",
       " 'Merle Gonzales': 'Advisor',\n",
       " 'Lindsay Callahan': 'Advisor',\n",
       " 'Frieda Pham': 'Recruiter',\n",
       " 'Lorene Reeves': 'Recruiter',\n",
       " 'Saul Baldwin': 'Enforcer',\n",
       " 'Darryl Graves': 'Advisor',\n",
       " 'Michael Bartlett': 'Assassin',\n",
       " 'Terence Pitts': 'Assassin',\n",
       " 'Aimee Hammond': 'Enforcer',\n",
       " 'Basil Flynn': 'Enforcer',\n",
       " 'Celia Roman': 'Accountant',\n",
       " 'Damien Donovan': 'Recruiter',\n",
       " 'Carter Lam': 'Advisor',\n",
       " 'Lucile Hart': 'Recruiter',\n",
       " 'Sara Stanley': 'Assassin',\n",
       " 'Nick King': 'Brute',\n",
       " 'Martina Daniel': 'Advisor',\n",
       " 'Neva Bruce': 'Brute',\n",
       " 'Long Brooks': 'Enforcer',\n",
       " 'Alexandra Drake': 'Brute',\n",
       " 'Erick Page': 'Brute',\n",
       " 'Lora Dalton': 'Assassin',\n",
       " 'Eloise Hurley': 'Assassin',\n",
       " 'Lenny Serrano': 'Assassin',\n",
       " 'Ken Lynn': 'Assassin',\n",
       " 'Camille Pace': 'Advisor',\n",
       " 'Alyce Ortiz': 'Assassin',\n",
       " 'Carol Potter': 'Brute',\n",
       " 'Grady Booker': 'Priest',\n",
       " 'Jewell Bender': 'Recruiter',\n",
       " 'Everette Burgess': 'Assassin',\n",
       " 'Marshall Day': 'Recruiter',\n",
       " 'Pasquale Rios': 'Brute'}"
      ]
     },
     "execution_count": 73,
     "metadata": {},
     "output_type": "execute_result"
    }
   ],
   "source": [
    "def assign_cult_role(cultists, cult_roles):\n",
    "    all_cultists_roles = {}\n",
    "    for cultist in cultists:\n",
    "        cultist_name = cultist['name']\n",
    "        cultist_role = \"\"\n",
    "        bestSkill = max(cultist['skills'],key=cultist['skills'].get)\n",
    "        for role in cult_roles:\n",
    "            bestRoleSkill = max(cult_roles[role], key=cult_roles[role].get)\n",
    "            if bestRoleSkill is bestSkill:\n",
    "                all_cultist_roles[cultist_name] = role\n",
    "                break;\n",
    "    return all_cultist_roles"
   ]
  },
  {
   "cell_type": "code",
   "execution_count": 92,
   "metadata": {},
   "outputs": [
    {
     "data": {
      "text/plain": [
       "Text(0.5, 1.0, 'Number of Cultists pr. Role')"
      ]
     },
     "execution_count": 92,
     "metadata": {},
     "output_type": "execute_result"
    },
    {
     "data": {
      "image/png": "[encoded data removed]",
      "text/plain": [
       "<Figure size 432x288 with 1 Axes>"
      ]
     },
     "metadata": {
      "needs_background": "light"
     },
     "output_type": "display_data"
    }
   ],
   "source": [
    "cultist_role = assign_cult_role(cult, cult_roles)\n",
    "role_spread = {}\n",
    "for key in cultist_role:\n",
    "    role = cultist_role[key]\n",
    "    if role in role_spread:\n",
    "        cur_value = role_spread[role]\n",
    "        cur_value += 1\n",
    "        role_spread[role] = cur_value\n",
    "    else:\n",
    "        role_spread[role] = 1\n",
    "sorted_spread = {key: value for key, value in sorted(role_spread.items(), key=lambda item: item[1], reverse=True)}\n",
    "plt.bar(sorted_spread.keys(), sorted_spread.values(), align='center')\n",
    "plt.xticks(rotation=45)\n",
    "plt.xlabel('Roles')\n",
    "plt.ylabel('Count')\n",
    "plt.title('Number of Cultists pr. Role')\n"
   ]
  },
  {
   "cell_type": "markdown",
   "metadata": {},
   "source": [
    "# Exercise 2"
   ]
  },
  {
   "cell_type": "code",
   "execution_count": 120,
   "metadata": {},
   "outputs": [],
   "source": [
    "import pandas as pd\n",
    "import sklearn.linear_model\n",
    "import numpy as np"
   ]
  },
  {
   "cell_type": "code",
   "execution_count": 116,
   "metadata": {},
   "outputs": [
    {
     "data": {
      "text/html": [
       "<div>\n",
       "<style scoped>\n",
       "    .dataframe tbody tr th:only-of-type {\n",
       "        vertical-align: middle;\n",
       "    }\n",
       "\n",
       "    .dataframe tbody tr th {\n",
       "        vertical-align: top;\n",
       "    }\n",
       "\n",
       "    .dataframe thead th {\n",
       "        text-align: right;\n",
       "    }\n",
       "</style>\n",
       "<table border=\"1\" class=\"dataframe\">\n",
       "  <thead>\n",
       "    <tr style=\"text-align: right;\">\n",
       "      <th></th>\n",
       "      <th>year</th>\n",
       "      <th>new_recruit</th>\n",
       "      <th>amount_spend(per_10000)</th>\n",
       "      <th>total_amount</th>\n",
       "    </tr>\n",
       "  </thead>\n",
       "  <tbody>\n",
       "    <tr>\n",
       "      <th>0</th>\n",
       "      <td>1605</td>\n",
       "      <td>9</td>\n",
       "      <td>0.09</td>\n",
       "      <td>344</td>\n",
       "    </tr>\n",
       "    <tr>\n",
       "      <th>1</th>\n",
       "      <td>1606</td>\n",
       "      <td>11</td>\n",
       "      <td>0.11</td>\n",
       "      <td>355</td>\n",
       "    </tr>\n",
       "    <tr>\n",
       "      <th>2</th>\n",
       "      <td>1607</td>\n",
       "      <td>11</td>\n",
       "      <td>0.11</td>\n",
       "      <td>366</td>\n",
       "    </tr>\n",
       "    <tr>\n",
       "      <th>3</th>\n",
       "      <td>1608</td>\n",
       "      <td>10</td>\n",
       "      <td>0.10</td>\n",
       "      <td>376</td>\n",
       "    </tr>\n",
       "    <tr>\n",
       "      <th>4</th>\n",
       "      <td>1609</td>\n",
       "      <td>12</td>\n",
       "      <td>0.11</td>\n",
       "      <td>388</td>\n",
       "    </tr>\n",
       "    <tr>\n",
       "      <th>...</th>\n",
       "      <td>...</td>\n",
       "      <td>...</td>\n",
       "      <td>...</td>\n",
       "      <td>...</td>\n",
       "    </tr>\n",
       "    <tr>\n",
       "      <th>411</th>\n",
       "      <td>2016</td>\n",
       "      <td>704</td>\n",
       "      <td>7.05</td>\n",
       "      <td>64063</td>\n",
       "    </tr>\n",
       "    <tr>\n",
       "      <th>412</th>\n",
       "      <td>2017</td>\n",
       "      <td>601</td>\n",
       "      <td>6.14</td>\n",
       "      <td>64664</td>\n",
       "    </tr>\n",
       "    <tr>\n",
       "      <th>413</th>\n",
       "      <td>2018</td>\n",
       "      <td>677</td>\n",
       "      <td>7.06</td>\n",
       "      <td>65341</td>\n",
       "    </tr>\n",
       "    <tr>\n",
       "      <th>414</th>\n",
       "      <td>2019</td>\n",
       "      <td>659</td>\n",
       "      <td>6.73</td>\n",
       "      <td>66000</td>\n",
       "    </tr>\n",
       "    <tr>\n",
       "      <th>415</th>\n",
       "      <td>2020</td>\n",
       "      <td>666</td>\n",
       "      <td>6.66</td>\n",
       "      <td>66666</td>\n",
       "    </tr>\n",
       "  </tbody>\n",
       "</table>\n",
       "<p>416 rows × 4 columns</p>\n",
       "</div>"
      ],
      "text/plain": [
       "     year  new_recruit  amount_spend(per_10000)  total_amount\n",
       "0    1605            9                     0.09           344\n",
       "1    1606           11                     0.11           355\n",
       "2    1607           11                     0.11           366\n",
       "3    1608           10                     0.10           376\n",
       "4    1609           12                     0.11           388\n",
       "..    ...          ...                      ...           ...\n",
       "411  2016          704                     7.05         64063\n",
       "412  2017          601                     6.14         64664\n",
       "413  2018          677                     7.06         65341\n",
       "414  2019          659                     6.73         66000\n",
       "415  2020          666                     6.66         66666\n",
       "\n",
       "[416 rows x 4 columns]"
      ]
     },
     "execution_count": 116,
     "metadata": {},
     "output_type": "execute_result"
    }
   ],
   "source": [
    "data = pd.read_csv('https://raw.githubusercontent.com/Micniks/Python-Week10-Group-3-Assignments/main/cult_statistics.csv')\n",
    "data"
   ]
  },
  {
   "cell_type": "code",
   "execution_count": 113,
   "metadata": {},
   "outputs": [
    {
     "data": {
      "text/plain": [
       "<matplotlib.axes._subplots.AxesSubplot at 0x7f9059029510>"
      ]
     },
     "execution_count": 113,
     "metadata": {},
     "output_type": "execute_result"
    },
    {
     "data": {
      "image/png": "[encoded data removed]",
      "text/plain": [
       "<Figure size 432x288 with 1 Axes>"
      ]
     },
     "metadata": {
      "needs_background": "light"
     },
     "output_type": "display_data"
    }
   ],
   "source": [
    "new_r = data.set_index(data[\"new_recruit\"])[[\"amount_spend(per_10000)\"]]\n",
    "new_r.plot()"
   ]
  },
  {
   "cell_type": "code",
   "execution_count": 114,
   "metadata": {},
   "outputs": [
    {
     "data": {
      "text/plain": [
       "<matplotlib.axes._subplots.AxesSubplot at 0x7f9058fb2050>"
      ]
     },
     "execution_count": 114,
     "metadata": {},
     "output_type": "execute_result"
    },
    {
     "data": {
      "image/png": "[encoded data removed]",
      "text/plain": [
       "<Figure size 432x288 with 1 Axes>"
      ]
     },
     "metadata": {
      "needs_background": "light"
     },
     "output_type": "display_data"
    }
   ],
   "source": [
    "new_r_2 = data.set_index(data[\"new_recruit\"])[[\"total_amount\"]]\n",
    "new_r_2.plot()"
   ]
  },
  {
   "cell_type": "code",
   "execution_count": 126,
   "metadata": {},
   "outputs": [
    {
     "name": "stdout",
     "output_type": "stream",
     "text": [
      "Spending 120000 on new recruits means there will join 1197.952107101638 new recruits\n"
     ]
    },
    {
     "data": {
      "text/plain": [
       "array([ 11.13941947,  11.2485234 ,  11.35762733,  11.45681272,\n",
       "        11.57583518,  11.69485765,  11.80396158,  11.90314697,\n",
       "        12.01225089,  12.11143628,  12.22054021,  12.33956268,\n",
       "        12.46850368,  12.56768907,  12.676793  ,  12.79581547,\n",
       "        12.90491939,  13.0338604 ,  13.1628014 ,  13.27190533,\n",
       "        13.3909278 ,  13.5198688 ,  13.63889127,  13.75791374,\n",
       "        13.89677328,  14.03563283,  14.16457383,  14.31335191,\n",
       "        14.44229292,  14.56131539,  14.70017493,  14.83903447,\n",
       "        14.98781256,  15.13659064,  15.28536872,  15.43414681,\n",
       "        15.58292489,  15.73170297,  15.87056252,  16.0193406 ,\n",
       "        16.16811868,  16.30697823,  16.46567485,  16.62437147,\n",
       "        16.78306809,  16.93184618,  17.0905428 ,  17.23932088,\n",
       "        17.40793604,  17.56663266,  17.72532929,  17.91378153,\n",
       "        18.07247815,  18.26093039,  18.42954555,  18.60807925,\n",
       "        18.78661295,  18.96514665,  19.13376181,  19.33213258,\n",
       "        19.51066628,  19.70903706,  19.90740784,  20.10577862,\n",
       "        20.28431232,  20.50252017,  20.71080949,  20.89926173,\n",
       "        21.10755104,  21.3257589 ,  21.52412968,  21.76217461,\n",
       "        21.98038246,  22.20850886,  22.41679817,  22.63500603,\n",
       "        22.86313242,  23.10117736,  23.32930375,  23.56734868,\n",
       "        23.81531216,  24.03352001,  24.27156494,  24.4897728 ,\n",
       "        24.75757335,  25.01545536,  25.24358175,  25.50146376,\n",
       "        25.72959016,  25.97755363,  26.23543564,  26.50323619,\n",
       "        26.7611182 ,  27.00908167,  27.25704515,  27.51492716,\n",
       "        27.78272771,  28.04060972,  28.29849173,  28.56629228,\n",
       "        28.86384844,  29.13164899,  29.40936808,  29.69700571,\n",
       "        30.01439895,  30.32187366,  30.62934836,  30.93682307,\n",
       "        31.23437923,  31.57160956,  31.86916572,  32.17664043,\n",
       "        32.46427805,  32.77175276,  33.07922747,  33.42637633,\n",
       "        33.78344373,  34.07108135,  34.43806729,  34.77529761,\n",
       "        35.14228355,  35.48943241,  35.83658127,  36.21348575,\n",
       "        36.58047169,  36.94745763,  37.3243621 ,  37.66159243,\n",
       "        37.99882275,  38.35589015,  38.70303901,  39.09978056,\n",
       "        39.44692942,  39.84367098,  40.27016815,  40.68674678,\n",
       "        41.06365126,  41.4306372 ,  41.86705291,  42.30346862,\n",
       "        42.67045456,  43.10687027,  43.50361182,  43.89043484,\n",
       "        44.31693201,  44.7235921 ,  45.1302522 ,  45.54683083,\n",
       "        46.0229207 ,  46.48909202,  46.95526335,  47.4015976 ,\n",
       "        47.85785039,  48.2942661 ,  48.84970428,  49.3654683 ,\n",
       "        49.82172109,  50.30772949,  50.83341205,  51.28966484,\n",
       "        51.76575471,  52.32119288,  52.78736421,  53.34280239,\n",
       "        53.86848495,  54.37433043,  54.96944276,  55.60422925,\n",
       "        56.1795045 ,  56.7151056 ,  57.26062524,  57.82598196,\n",
       "        58.47068699,  59.09555493,  59.7501785 ,  60.35520937,\n",
       "        60.98999586,  61.58510819,  62.27940591,  62.93402948,\n",
       "        63.53906035,  64.14409122,  64.83838894,  65.51284959,\n",
       "        66.19722877,  66.92128211,  67.54615006,  68.26028485,\n",
       "        68.92482696,  69.56953199,  70.24399263,  70.99780158,\n",
       "        71.77144762,  72.50541949,  73.17988014,  73.81466662,\n",
       "        74.55855704,  75.2627733 ,  75.96698956,  76.75055413,\n",
       "        77.56387432,  78.34743889,  79.18059616,  80.01375342,\n",
       "        80.79731799,  81.68998649,  82.56281791,  83.44556787,\n",
       "        84.2688066 ,  85.14163802,  86.09381775,  86.91705648,\n",
       "        87.75021374,  88.60320809,  89.50579512,  90.45797486,\n",
       "        91.44982874,  92.40200848,  93.35418821,  94.22701963,\n",
       "        95.19903644,  96.2603201 ,  97.30176668,  98.39280596,\n",
       "        99.39457838, 100.47569912, 101.5171457 , 102.39989566,\n",
       "       103.35207539, 104.49270737, 105.6234208 , 106.59543761,\n",
       "       107.76582519, 108.88662009, 109.91814813, 111.12820987,\n",
       "       112.32835308, 113.46898505, 114.5798614 , 115.68081922,\n",
       "       116.76193995, 117.84306069, 118.97377412, 120.15408025,\n",
       "       121.29471222, 122.58412227, 123.65532447, 124.86538621,\n",
       "       125.94650695, 127.23591701, 128.60467537, 130.08253766,\n",
       "       131.53064434, 133.00850663, 134.26816107, 135.74602336,\n",
       "       137.1346188 , 138.44386593, 139.90189115, 141.39959052,\n",
       "       142.82786012, 144.30572241, 145.81334032, 147.38046946,\n",
       "       148.89800591, 150.39570528, 151.89340465, 153.51012649,\n",
       "       154.92847754, 156.35674714, 158.11232852, 159.53067958,\n",
       "       161.10772726, 162.7244491 , 164.24198555, 165.90830008,\n",
       "       167.61428877, 169.44921846, 170.97667344, 172.58347674,\n",
       "       174.3588952 , 176.05496535, 177.81054673, 179.52645395,\n",
       "       181.18284995, 182.95826841, 184.83287225, 186.66780194,\n",
       "       188.51265018, 190.4070911 , 192.36104326, 194.06703195,\n",
       "       196.16976219, 198.13363288, 200.24628166, 202.20023382,\n",
       "       204.3128826 , 206.44536846, 208.61752847, 210.61115479,\n",
       "       212.51551425, 214.82653381, 216.79040451, 219.21052799,\n",
       "       221.22399139, 223.51517387, 225.96505297, 228.13721298,\n",
       "       230.6168477 , 232.69974086, 235.06035312, 237.16308336,\n",
       "       239.66255515, 242.06284156, 244.64166167, 247.22048178,\n",
       "       249.88856873, 252.52690007, 255.03629041, 257.26796166,\n",
       "       259.71784076, 262.16771986, 264.87548097, 267.33527862,\n",
       "       269.85458749, 272.47308175, 275.52799173, 277.93819667,\n",
       "       280.76498025, 283.76037899, 286.48797718, 289.60239839,\n",
       "       292.14154434, 295.01792062, 298.03315643, 300.6516507 ,\n",
       "       303.88509437, 307.20780489, 310.19328509, 313.39697315,\n",
       "       316.67009098, 319.95312735, 323.3353491 , 326.78700063,\n",
       "       329.88158476, 332.99600597, 336.54684288, 339.85963487,\n",
       "       343.20218247, 346.85220478, 350.18483384, 353.52738144,\n",
       "       357.07821836, 360.88693728, 364.39810005, 367.8299145 ,\n",
       "       371.20221771, 374.71338048, 378.18486908, 381.54725376,\n",
       "       386.03043333, 390.31524213, 394.42151722, 398.58730355,\n",
       "       402.42577809, 406.18490433, 409.9043564 , 414.23875789,\n",
       "       418.45413691, 422.90756087, 427.63870391, 431.55652677,\n",
       "       435.51402378, 439.93769212, 444.0142116 , 448.80486587,\n",
       "       453.09959321, 457.384402  , 461.93701134, 466.53921338,\n",
       "       471.41913451, 476.35856687, 480.77231667, 485.99938665,\n",
       "       490.93881901, 496.17580754, 500.85735789, 506.04475372,\n",
       "       511.27182371, 516.36995269, 521.32922213, 526.41743257,\n",
       "       531.82303626, 537.22863994, 543.18968181, 548.88292312,\n",
       "       553.90170379, 559.81315296, 565.16916395, 571.03102043,\n",
       "       577.49790778, 583.73666873, 589.07284264, 594.52803902,\n",
       "       600.6973702 , 606.33110029, 612.19295676, 617.74733853,\n",
       "       624.29357419, 630.37363852, 636.15614668, 643.13879805,\n",
       "       649.09983991, 655.81469073, 662.35100785, 668.95675474])"
      ]
     },
     "execution_count": 126,
     "metadata": {},
     "output_type": "execute_result"
    }
   ],
   "source": [
    "xs = data[\"total_amount\"]\n",
    "ys = data[\"new_recruit\"]\n",
    "xs_reshape = np.array(xs).reshape(-1,1)\n",
    "model = sklearn.linear_model.LinearRegression()\n",
    "model.fit(xs_reshape, ys)\n",
    "predicted = model.predict(xs_reshape)\n",
    "spending10000 = model.predict([[120000]])\n",
    "print('Spending 120000 on new recruits means there will join {} new recruits'.format(spending10000[0]))\n",
    "predicted"
   ]
  },
  {
   "cell_type": "code",
   "execution_count": 127,
   "metadata": {},
   "outputs": [
    {
     "name": "stdout",
     "output_type": "stream",
     "text": [
      "Spending 20 % less on new recruits means only 801.2105521012606 new recruits will join.\n"
     ]
    },
    {
     "data": {
      "text/plain": [
       "array([ 11.13941947,  11.2485234 ,  11.35762733,  11.45681272,\n",
       "        11.57583518,  11.69485765,  11.80396158,  11.90314697,\n",
       "        12.01225089,  12.11143628,  12.22054021,  12.33956268,\n",
       "        12.46850368,  12.56768907,  12.676793  ,  12.79581547,\n",
       "        12.90491939,  13.0338604 ,  13.1628014 ,  13.27190533,\n",
       "        13.3909278 ,  13.5198688 ,  13.63889127,  13.75791374,\n",
       "        13.89677328,  14.03563283,  14.16457383,  14.31335191,\n",
       "        14.44229292,  14.56131539,  14.70017493,  14.83903447,\n",
       "        14.98781256,  15.13659064,  15.28536872,  15.43414681,\n",
       "        15.58292489,  15.73170297,  15.87056252,  16.0193406 ,\n",
       "        16.16811868,  16.30697823,  16.46567485,  16.62437147,\n",
       "        16.78306809,  16.93184618,  17.0905428 ,  17.23932088,\n",
       "        17.40793604,  17.56663266,  17.72532929,  17.91378153,\n",
       "        18.07247815,  18.26093039,  18.42954555,  18.60807925,\n",
       "        18.78661295,  18.96514665,  19.13376181,  19.33213258,\n",
       "        19.51066628,  19.70903706,  19.90740784,  20.10577862,\n",
       "        20.28431232,  20.50252017,  20.71080949,  20.89926173,\n",
       "        21.10755104,  21.3257589 ,  21.52412968,  21.76217461,\n",
       "        21.98038246,  22.20850886,  22.41679817,  22.63500603,\n",
       "        22.86313242,  23.10117736,  23.32930375,  23.56734868,\n",
       "        23.81531216,  24.03352001,  24.27156494,  24.4897728 ,\n",
       "        24.75757335,  25.01545536,  25.24358175,  25.50146376,\n",
       "        25.72959016,  25.97755363,  26.23543564,  26.50323619,\n",
       "        26.7611182 ,  27.00908167,  27.25704515,  27.51492716,\n",
       "        27.78272771,  28.04060972,  28.29849173,  28.56629228,\n",
       "        28.86384844,  29.13164899,  29.40936808,  29.69700571,\n",
       "        30.01439895,  30.32187366,  30.62934836,  30.93682307,\n",
       "        31.23437923,  31.57160956,  31.86916572,  32.17664043,\n",
       "        32.46427805,  32.77175276,  33.07922747,  33.42637633,\n",
       "        33.78344373,  34.07108135,  34.43806729,  34.77529761,\n",
       "        35.14228355,  35.48943241,  35.83658127,  36.21348575,\n",
       "        36.58047169,  36.94745763,  37.3243621 ,  37.66159243,\n",
       "        37.99882275,  38.35589015,  38.70303901,  39.09978056,\n",
       "        39.44692942,  39.84367098,  40.27016815,  40.68674678,\n",
       "        41.06365126,  41.4306372 ,  41.86705291,  42.30346862,\n",
       "        42.67045456,  43.10687027,  43.50361182,  43.89043484,\n",
       "        44.31693201,  44.7235921 ,  45.1302522 ,  45.54683083,\n",
       "        46.0229207 ,  46.48909202,  46.95526335,  47.4015976 ,\n",
       "        47.85785039,  48.2942661 ,  48.84970428,  49.3654683 ,\n",
       "        49.82172109,  50.30772949,  50.83341205,  51.28966484,\n",
       "        51.76575471,  52.32119288,  52.78736421,  53.34280239,\n",
       "        53.86848495,  54.37433043,  54.96944276,  55.60422925,\n",
       "        56.1795045 ,  56.7151056 ,  57.26062524,  57.82598196,\n",
       "        58.47068699,  59.09555493,  59.7501785 ,  60.35520937,\n",
       "        60.98999586,  61.58510819,  62.27940591,  62.93402948,\n",
       "        63.53906035,  64.14409122,  64.83838894,  65.51284959,\n",
       "        66.19722877,  66.92128211,  67.54615006,  68.26028485,\n",
       "        68.92482696,  69.56953199,  70.24399263,  70.99780158,\n",
       "        71.77144762,  72.50541949,  73.17988014,  73.81466662,\n",
       "        74.55855704,  75.2627733 ,  75.96698956,  76.75055413,\n",
       "        77.56387432,  78.34743889,  79.18059616,  80.01375342,\n",
       "        80.79731799,  81.68998649,  82.56281791,  83.44556787,\n",
       "        84.2688066 ,  85.14163802,  86.09381775,  86.91705648,\n",
       "        87.75021374,  88.60320809,  89.50579512,  90.45797486,\n",
       "        91.44982874,  92.40200848,  93.35418821,  94.22701963,\n",
       "        95.19903644,  96.2603201 ,  97.30176668,  98.39280596,\n",
       "        99.39457838, 100.47569912, 101.5171457 , 102.39989566,\n",
       "       103.35207539, 104.49270737, 105.6234208 , 106.59543761,\n",
       "       107.76582519, 108.88662009, 109.91814813, 111.12820987,\n",
       "       112.32835308, 113.46898505, 114.5798614 , 115.68081922,\n",
       "       116.76193995, 117.84306069, 118.97377412, 120.15408025,\n",
       "       121.29471222, 122.58412227, 123.65532447, 124.86538621,\n",
       "       125.94650695, 127.23591701, 128.60467537, 130.08253766,\n",
       "       131.53064434, 133.00850663, 134.26816107, 135.74602336,\n",
       "       137.1346188 , 138.44386593, 139.90189115, 141.39959052,\n",
       "       142.82786012, 144.30572241, 145.81334032, 147.38046946,\n",
       "       148.89800591, 150.39570528, 151.89340465, 153.51012649,\n",
       "       154.92847754, 156.35674714, 158.11232852, 159.53067958,\n",
       "       161.10772726, 162.7244491 , 164.24198555, 165.90830008,\n",
       "       167.61428877, 169.44921846, 170.97667344, 172.58347674,\n",
       "       174.3588952 , 176.05496535, 177.81054673, 179.52645395,\n",
       "       181.18284995, 182.95826841, 184.83287225, 186.66780194,\n",
       "       188.51265018, 190.4070911 , 192.36104326, 194.06703195,\n",
       "       196.16976219, 198.13363288, 200.24628166, 202.20023382,\n",
       "       204.3128826 , 206.44536846, 208.61752847, 210.61115479,\n",
       "       212.51551425, 214.82653381, 216.79040451, 219.21052799,\n",
       "       221.22399139, 223.51517387, 225.96505297, 228.13721298,\n",
       "       230.6168477 , 232.69974086, 235.06035312, 237.16308336,\n",
       "       239.66255515, 242.06284156, 244.64166167, 247.22048178,\n",
       "       249.88856873, 252.52690007, 255.03629041, 257.26796166,\n",
       "       259.71784076, 262.16771986, 264.87548097, 267.33527862,\n",
       "       269.85458749, 272.47308175, 275.52799173, 277.93819667,\n",
       "       280.76498025, 283.76037899, 286.48797718, 289.60239839,\n",
       "       292.14154434, 295.01792062, 298.03315643, 300.6516507 ,\n",
       "       303.88509437, 307.20780489, 310.19328509, 313.39697315,\n",
       "       316.67009098, 319.95312735, 323.3353491 , 326.78700063,\n",
       "       329.88158476, 332.99600597, 336.54684288, 339.85963487,\n",
       "       343.20218247, 346.85220478, 350.18483384, 353.52738144,\n",
       "       357.07821836, 360.88693728, 364.39810005, 367.8299145 ,\n",
       "       371.20221771, 374.71338048, 378.18486908, 381.54725376,\n",
       "       386.03043333, 390.31524213, 394.42151722, 398.58730355,\n",
       "       402.42577809, 406.18490433, 409.9043564 , 414.23875789,\n",
       "       418.45413691, 422.90756087, 427.63870391, 431.55652677,\n",
       "       435.51402378, 439.93769212, 444.0142116 , 448.80486587,\n",
       "       453.09959321, 457.384402  , 461.93701134, 466.53921338,\n",
       "       471.41913451, 476.35856687, 480.77231667, 485.99938665,\n",
       "       490.93881901, 496.17580754, 500.85735789, 506.04475372,\n",
       "       511.27182371, 516.36995269, 521.32922213, 526.41743257,\n",
       "       531.82303626, 537.22863994, 543.18968181, 548.88292312,\n",
       "       553.90170379, 559.81315296, 565.16916395, 571.03102043,\n",
       "       577.49790778, 583.73666873, 589.07284264, 594.52803902,\n",
       "       600.6973702 , 606.33110029, 612.19295676, 617.74733853,\n",
       "       624.29357419, 630.37363852, 636.15614668, 643.13879805,\n",
       "       649.09983991, 655.81469073, 662.35100785, 668.95675474])"
      ]
     },
     "execution_count": 127,
     "metadata": {},
     "output_type": "execute_result"
    }
   ],
   "source": [
    "xs = data[\"total_amount\"]\n",
    "ys = data[\"new_recruit\"]\n",
    "xs_reshape = np.array(xs).reshape(-1,1)\n",
    "model = sklearn.linear_model.LinearRegression()\n",
    "model.fit(xs_reshape, ys)\n",
    "model.coef_\n",
    "\n",
    "predicted = model.predict(xs_reshape)\n",
    "spending10000 = model.predict([[80000]])\n",
    "print('Spending 20 % less on new recruits means only {} new recruits will join.'.format(spending10000[0]))\n",
    "predicted"
   ]
  },
  {
   "cell_type": "code",
   "execution_count": 130,
   "metadata": {},
   "outputs": [
    {
     "name": "stdout",
     "output_type": "stream",
     "text": [
      "79371.06507706578 Will be needed to be spend on new recruits to have as many join as in 2020.\n"
     ]
    },
    {
     "data": {
      "text/plain": [
       "array([  247.35585011,   447.41579758,   447.41579758,   347.38582384,\n",
       "         547.44577132,   547.44577132,   447.41579758,   347.38582384,\n",
       "         447.41579758,   347.38582384,   447.41579758,   547.44577132,\n",
       "         647.47574506,   347.38582384,   447.41579758,   547.44577132,\n",
       "         447.41579758,   647.47574506,   647.47574506,   447.41579758,\n",
       "         547.44577132,   647.47574506,   547.44577132,   547.44577132,\n",
       "         747.5057188 ,   747.5057188 ,   647.47574506,   847.53569253,\n",
       "         647.47574506,   547.44577132,   747.5057188 ,   747.5057188 ,\n",
       "         847.53569253,   847.53569253,   847.53569253,   847.53569253,\n",
       "         847.53569253,   847.53569253,   747.5057188 ,   847.53569253,\n",
       "         847.53569253,   747.5057188 ,   947.56566627,   947.56566627,\n",
       "         947.56566627,   847.53569253,   947.56566627,   847.53569253,\n",
       "        1047.59564001,   947.56566627,   947.56566627,  1247.65558749,\n",
       "         947.56566627,  1247.65558749,  1047.59564001,  1147.62561375,\n",
       "        1147.62561375,  1147.62561375,  1047.59564001,  1347.68556123,\n",
       "        1147.62561375,  1347.68556123,  1347.68556123,  1347.68556123,\n",
       "        1147.62561375,  1547.7455087 ,  1447.71553496,  1247.65558749,\n",
       "        1447.71553496,  1547.7455087 ,  1347.68556123,  1747.80545618,\n",
       "        1547.7455087 ,  1647.77548244,  1447.71553496,  1547.7455087 ,\n",
       "        1647.77548244,  1747.80545618,  1647.77548244,  1747.80545618,\n",
       "        1847.83542992,  1547.7455087 ,  1747.80545618,  1547.7455087 ,\n",
       "        2047.89537739,  1947.86540366,  1647.77548244,  1947.86540366,\n",
       "        1647.77548244,  1847.83542992,  1947.86540366,  2047.89537739,\n",
       "        1947.86540366,  1847.83542992,  1847.83542992,  1947.86540366,\n",
       "        2047.89537739,  1947.86540366,  1947.86540366,  2047.89537739,\n",
       "        2347.98529861,  2047.89537739,  2147.92535113,  2247.95532487,\n",
       "        2548.04524609,  2448.01527235,  2448.01527235,  2448.01527235,\n",
       "        2347.98529861,  2748.10519356,  2347.98529861,  2448.01527235,\n",
       "        2247.95532487,  2448.01527235,  2448.01527235,  2848.1351673 ,\n",
       "        2948.16514104,  2247.95532487,  3048.19511478,  2748.10519356,\n",
       "        3048.19511478,  2848.1351673 ,  2848.1351673 ,  3148.22508851,\n",
       "        3048.19511478,  3048.19511478,  3148.22508851,  2748.10519356,\n",
       "        2748.10519356,  2948.16514104,  2848.1351673 ,  3348.28503599,\n",
       "        2848.1351673 ,  3348.28503599,  3648.37495721,  3548.34498347,\n",
       "        3148.22508851,  3048.19511478,  3748.40493094,  3748.40493094,\n",
       "        3048.19511478,  3748.40493094,  3348.28503599,  3248.25506225,\n",
       "        3648.37495721,  3448.31500973,  3448.31500973,  3548.34498347,\n",
       "        4148.5248259 ,  4048.49485216,  4048.49485216,  3848.43490468,\n",
       "        3948.46487842,  3748.40493094,  4948.7646158 ,  4548.64472085,\n",
       "        3948.46487842,  4248.55479964,  4648.67469459,  3948.46487842,\n",
       "        4148.5248259 ,  4948.7646158 ,  4048.49485216,  4948.7646158 ,\n",
       "        4648.67469459,  4448.61474711,  5348.88451076,  5749.00440571,\n",
       "        5148.82456328,  4748.70466833,  4848.73464206,  5048.79458954,\n",
       "        5849.03437945,  5648.97443197,  5949.06435319,  5448.91448449,\n",
       "        5749.00440571,  5348.88451076,  6349.18424814,  5949.06435319,\n",
       "        5448.91448449,  5448.91448449,  6349.18424814,  6149.12430066,\n",
       "        6249.1542744 ,  6649.27416935,  5648.97443197,  6549.24419562,\n",
       "        6049.09432692,  5849.03437945,  6149.12430066,  6949.36409057,\n",
       "        7149.42403804,  6749.30414309,  6149.12430066,  5749.00440571,\n",
       "        6849.33411683,  6449.21422188,  6449.21422188,  7249.45401178,\n",
       "        7549.543933  ,  7249.45401178,  7749.60388047,  7749.60388047,\n",
       "        7249.45401178,  8349.7837229 ,  8149.72377543,  8249.75374917,\n",
       "        7649.57390674,  8149.72377543,  8949.96356533,  7649.57390674,\n",
       "        7749.60388047,  7949.66382795,  8449.81369664,  8949.96356533,\n",
       "        9350.08346029,  8949.96356533,  8949.96356533,  8149.72377543,\n",
       "        9150.02351281, 10050.29327645,  9850.23332898, 10350.38319767,\n",
       "        9450.11343402, 10250.35322393,  9850.23332898,  8249.75374917,\n",
       "        8949.96356533, 10850.53306636, 10750.50309262,  9150.02351281,\n",
       "       11150.62298758, 10650.47311888,  9750.20335524, 11550.74288253,\n",
       "       11450.71290879, 10850.53306636, 10550.44314515, 10450.41317141,\n",
       "       10250.35322393, 10250.35322393, 10750.50309262, 11250.65296131,\n",
       "       10850.53306636, 12350.98267243, 10150.32325019, 11550.74288253,\n",
       "       10250.35322393, 12350.98267243, 13151.22246234, 14251.55217346,\n",
       "       13951.46225225, 14251.55217346, 12050.89275122, 14251.55217346,\n",
       "       13351.28240982, 12551.04261991, 14051.49222598, 14451.61212094,\n",
       "       13751.40230477, 14251.55217346, 14551.64209468, 15151.82193711,\n",
       "       14651.67206841, 14451.61212094, 14451.61212094, 15651.9718058 ,\n",
       "       13651.37233103, 13751.40230477, 17052.39143813, 13651.37233103,\n",
       "       15251.85191084, 15651.9718058 , 14651.67206841, 16152.12167449,\n",
       "       16552.24156944, 17852.63122804, 14751.70204215, 15551.94183206,\n",
       "       17252.45138561, 16452.2115957 , 17052.39143813, 16652.27154318,\n",
       "       16052.09170075, 17252.45138561, 18252.75112299, 17852.63122804,\n",
       "       17952.66120178, 18452.81107047, 19052.9909129 , 16552.24156944,\n",
       "       20553.44051897, 19153.02088664, 20653.47049271, 19052.9909129 ,\n",
       "       20653.47049271, 20853.53044019, 21253.65033514, 19453.11080785,\n",
       "       18552.84104421, 22654.06996747, 19153.02088664, 23754.3996786 ,\n",
       "       19653.17075533, 22454.01002   , 24054.48959981, 21253.65033514,\n",
       "       24354.57952102, 20353.38057149, 23154.21983617, 20553.44051897,\n",
       "       24554.6394685 , 23554.33973112, 25354.87925841, 25354.87925841,\n",
       "       26255.14902205, 25955.05910084, 24654.66944224, 21853.83017757,\n",
       "       24054.48959981, 24054.48959981, 26655.268917  , 24154.51957355,\n",
       "       24754.69941598, 25754.99915336, 30156.31799784, 23654.36970486,\n",
       "       27855.62860186, 29556.13815541, 26855.32886448, 30756.49784027,\n",
       "       24954.75936345, 28355.77847056, 29756.19810289, 25754.99915336,\n",
       "       31956.85752513, 32857.12728878, 29456.10818168, 31656.76760392,\n",
       "       32356.97742009, 32457.00739382, 33457.30713121, 34157.51694737,\n",
       "       30556.4378928 , 30756.49784027, 35157.81668476, 32757.09731504,\n",
       "       33057.18723625, 36158.11642214, 32957.15726251, 33057.18723625,\n",
       "       35157.81668476, 37758.59600195, 34757.6967898 , 33957.4569999 ,\n",
       "       33357.27715747, 34757.6967898 , 34357.57689485, 33257.24718373,\n",
       "       44560.63421615, 42560.03474139, 40759.4952141 , 41359.67505653,\n",
       "       38058.68592317, 37258.44613326, 36858.32623831, 43060.18461008,\n",
       "       41859.82492522, 44260.54429494, 47061.38355961, 38858.92571307,\n",
       "       39259.04560803, 43960.45437372, 40459.40529288, 47661.56340204,\n",
       "       42660.06471513, 42560.03474139, 45260.84403232, 45760.99390101,\n",
       "       48561.83316568, 49162.01300811, 43860.42439998, 52062.88224652,\n",
       "       49162.01300811, 52162.91222026, 46561.23369092, 51662.76235157,\n",
       "       52062.88224652, 50762.49258792, 49362.07295559, 50662.46261419,\n",
       "       53863.42177381, 53863.42177381, 59465.10030315, 56764.29101222,\n",
       "       49962.25279802, 58964.95043446, 53363.27190512, 58464.80056577,\n",
       "       64566.6289638 , 62265.93956782, 53163.21195764, 54363.5716425 ,\n",
       "       61565.72975166, 56164.11116979, 58464.80056577, 55363.87137988,\n",
       "       65366.86875371, 60665.45998801, 57664.56077586, 69768.18759819,\n",
       "       59465.10030315, 67067.37830726, 65266.83877997, 65967.04859614])"
      ]
     },
     "execution_count": 130,
     "metadata": {},
     "output_type": "execute_result"
    }
   ],
   "source": [
    "xs = data[\"new_recruit\"]\n",
    "ys = data[\"total_amount\"]\n",
    "xs_reshape = np.array(xs).reshape(-1,1)\n",
    "model = sklearn.linear_model.LinearRegression()\n",
    "model.fit(xs_reshape, ys)\n",
    "model.coef_\n",
    "\n",
    "predicted = model.predict(xs_reshape)\n",
    "spending10000 = model.predict([[800]])\n",
    "print('{} Will be needed to be spend on new recruits to have as many join as in 2020.'.format(spending10000[0]))\n",
    "predicted"
   ]
  },
  {
   "cell_type": "code",
   "execution_count": null,
   "metadata": {},
   "outputs": [],
   "source": []
  }
 ],
 "metadata": {
  "kernelspec": {
   "display_name": "Python 3",
   "language": "python",
   "name": "python3"
  },
  "language_info": {
   "codemirror_mode": {
    "name": "ipython",
    "version": 3
   },
   "file_extension": ".py",
   "mimetype": "text/x-python",
   "name": "python",
   "nbconvert_exporter": "python",
   "pygments_lexer": "ipython3",
   "version": "3.7.6"
  }
 },
 "nbformat": 4,
 "nbformat_minor": 4
}
