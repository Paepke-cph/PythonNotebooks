{
 "cells": [
  {
   "cell_type": "markdown",
   "metadata": {},
   "source": [
    " Week 4 Exercise with Numpy\n",
    "\n",
    "Use only numpy in these exercises\n",
    "#### Exercise 1\n",
    "1. Open the file './befkbhalderstatkode.csv'\n",
    "2. Turn the csv file into a numpy ndarray with `np.genfromtxt(filename, delimiter=',', dtype=np.uint, skip_header=1)`\n",
    "3. Using this data:\n",
    "```python\n",
    "neighb = {1: 'Indre By', 2: 'Østerbro', 3: 'Nørrebro', 4: 'Vesterbro/Kgs. Enghave', \n",
    "          5: 'Valby', 6: 'Vanløse', 7: 'Brønshøj-Husum', 8: 'Bispebjerg', 9: 'Amager Øst', \n",
    "          10: 'Amager Vest', 99: 'Udenfor'}\n",
    "```\n",
    "Find out how many people lived in each of the 11 areas in 2015\n",
    "4. Make a bar plot to show the size of each city area from the smallest to the largest\n",
    "5. Create a boolean mask to find out how many people above 65 years lived in Copenhagen in 2015\n",
    "6. How many of those were from the other nordic countries (not dk)\n",
    "7. Make a line plot showing the changes of number of people in vesterbro and østerbro from 1992 to 2015\n",
    "\n",
    "#### Exercise 2  A bit harder (Extra only if you have the time)\n",
    "\n",
    "1. From \"Danmarks Statistik\" download demographic data here:\n",
    "https://api.statbank.dk/v1/data/FOLK1A/CSV?valuePresentation=Code&delimiter=Semicolon&OMR%C3%85DE=000%2C084%2C147%2C400%2C085%2C083%2C082%2C081%2C851%2C461%2C561%2C751&K%C3%98N=1%2C2&ALDER=0%2C1%2C2%2C3%2C4%2C5%2C6%2C7%2C8%2C9%2C10%2C11%2C12%2C13%2C14%2C15%2C16%2C17%2C18%2C19%2C20%2C21%2C22%2C23%2C24%2C25%2C26%2C27%2C28%2C29%2C30%2C31%2C32%2C33%2C34%2C35%2C36%2C37%2C3%2C39%2C40%2C41%2C42%2C43%2C44%2C45%2C46%2C47%2C48%2C49%2C50%2C51%2C52%2C53%2C54%2C55%2C56%2C57%2C58%2C59%2C60%2C61%2C62%2C63%2C64%2C65%2C66%2C67%2C68%2C69%2C70%2C71%2C72%2C73%2C74%2C75%2C76%2C77%2C78%2C79%2C80%2C81%2C82%2C83%2C84%2C85%2C86%2C87%2C88%2C89%2C90%2C91%2C92%2C93%2C94%2C95%2C96%2C97%2C98%2C99%2C100&Tid=2008K1%2C2009K1%2C2010K1%2C2011K1%2C2012K1%2C2013K1%2C2014K1%2C2015K1%2C2016K1%2C2017K1%2C2018K1%2C2019K1%2C2020K1\n",
    "\n",
    "\n",
    "2. clean up the data so it only contains numbers. (If you find this hard to do then Pandas can help (we will cover it next week)\n",
    "```python\n",
    "import pandas as pd \n",
    "url = 'url from above here'\n",
    "df = pd.read_csv(url,sep=';')\n",
    "df['TID'] = df['TID'].map(lambda x:x[:-2]) #cut the last 2 characters\n",
    "df.to_csv('demografic_cleaned.csv',header=False, index=False)\n",
    "```\n",
    "Now you have csv data with columns: OMRÅDE;KØN;ALDER;TID;INDHOLD\n",
    "3. Now load your demographic data with numpy. (Hint: use np.loadtxt() with dtype and delimiter).\n",
    "4. Use file: BY_KODER_demographics.csv to get cities from the city codes\n",
    "5. Now find out which city in 2020 has the highest percentage of men (gender code 1),(Hint: create a function to return summed up data by city code ala: def summed_by_city(city_code): returning pct_male \n",
    "6. Create a line chart with 5 lines showing population changes in the 5 largest cities from 2008 to 2020\n"
   ]
  },
  {
   "cell_type": "code",
   "execution_count": null,
   "metadata": {},
   "outputs": [],
   "source": [
    "import numpy as np\n",
    "import csv\n",
    "import matplotlib.pyplot as plt\n",
    "\n",
    "neighb = {1: 'Indre By', 2: 'Østerbro', 3: 'Nørrebro', 4: 'Vesterbro/Kgs. Enghave', \n",
    "               5: 'Valby', 6: 'Vanløse', 7: 'Brønshøj-Husum', 8: 'Bispebjerg', 9: 'Amager Øst', \n",
    "               10: 'Amager Vest', 99: 'Udenfor'}\n",
    "\n",
    "dataset = np.genfromtxt('../../data/befkbhalderstatkode.csv',delimiter=',',dtype=np.uint,skip_header=1)\n",
    "\n",
    "da_dk_code = 5100\n",
    "\n",
    "#####################\n",
    "    # EXERCISE 1 #\n",
    "#####################\n",
    "def number_of_people_per_neighbourhood(dataset, n, mask):\n",
    "    all_people_in_given_n = dataset[mask & (dataset[:,1] == n)]\n",
    "    sum_of_people = all_people_in_given_n[:,4].sum()\n",
    "    return sum_of_people\n",
    "\n",
    "def print_number_of_people_in_neighb(dataset,country_code,neighb):\n",
    "    mask = (dataset[:,0] == 2015) & (dataset[:,3] == country_code) \n",
    "    for k in neighb: \n",
    "        print(f'%d personer i %s' % (number_of_people_per_neighbourhood(dataset,k,mask),neighb[k]))\n",
    "\n",
    "def plot_number_of_people_in_neighbo(dataset,country_code,neighb):\n",
    "    mask = (dataset[:,0] == 2015) & (dataset[:,3] == country_code)\n",
    "    people_dict = {neighb[k]:number_of_people_per_neighbourhood(dataset,k,mask) for k in neighb}\n",
    "    plt.xticks(rotation=45)\n",
    "    plt.bar(people_dict.keys(),people_dict.values())\n",
    "    plt.show()\n",
    "\n",
    "def number_of_people_above_65_in_cph(dataset, neighb):\n",
    "    mask = (dataset[:,0] == 2015) & (dataset[:,2] > 65) & (dataset[:,3] == 5100)\n",
    "    sum = 0\n",
    "    for k in neighb:\n",
    "        sum += number_of_people_per_neighbourhood(dataset,k,mask)\n",
    "    return sum\n",
    "\n",
    "def number_of_people_in_countries(dataset, countries, neighb):\n",
    "    sum = 0\n",
    "    for country in countries:\n",
    "        mask = (dataset[:,0] == 2015) & (dataset[:,2] > 65) & (dataset[:,3] == country)\n",
    "        for k in neighb:\n",
    "            sum += number_of_people_per_neighbourhood(dataset,k,mask)\n",
    "    return sum\n",
    "\n",
    "def line_plot_changes_in_vesterbro_and_oesterbro(dataset):\n",
    "    years = [y for y in range(1992,2006)]\n",
    "    oesterbro_amounts = [dataset[(dataset[:,0] == i) & (dataset[:,1] ==  2)][:,4].sum() for i in range(1992,2006)]\n",
    "    vesterbro_amounts = [dataset[(dataset[:,0] == i) & (dataset[:,1] ==  4)][:,4].sum() for i in range(1992,2006)]\n",
    "    plt.xticks(ticks=range(1992,2006),rotation=45)\n",
    "    p1, = plt.plot(years, oesterbro_amounts, label=\"Østerbro\")\n",
    "    p2, = plt.plot(years, vesterbro_amounts, label=\"Vesterbro\")\n",
    "    plt.legend(handles=[p1,p2],bbox_to_anchor=(1, 1.125), loc='upper right', borderaxespad=0.)\n",
    "    plt.show()"
   ]
  },
  {
   "cell_type": "code",
   "execution_count": null,
   "metadata": {},
   "outputs": [],
   "source": [
    "print_number_of_people_in_neighb(dataset,da_dk_code,neighb)\n",
    "plot_number_of_people_in_neighbo(dataset,da_dk_code,neighb)\n",
    "print(f'People above 65 living in Copenhagen (2015): %d' % number_of_people_above_65_in_cph(dataset,neighb))\n",
    "nordic_countries = [5110, 5120, 5104, 5105, 5106, 5902, 5901,5101] # excluding DK\n",
    "print(f'People above 65 living in CPH (2015) from other nordic countries: %d' % number_of_people_in_countries(dataset,nordic_countries,neighb))\n",
    "line_plot_changes_in_vesterbro_and_oesterbro(dataset)"
   ]
  }
 ],
 "metadata": {
  "kernelspec": {
   "display_name": "Python 3",
   "language": "python",
   "name": "python3"
  },
  "language_info": {
   "codemirror_mode": {
    "name": "ipython",
    "version": 3
   },
   "file_extension": ".py",
   "mimetype": "text/x-python",
   "name": "python",
   "nbconvert_exporter": "python",
   "pygments_lexer": "ipython3",
   "version": "3.7.6"
  },
  "varInspector": {
   "cols": {
    "lenName": 16,
    "lenType": 16,
    "lenVar": 40
   },
   "kernels_config": {
    "python": {
     "delete_cmd_postfix": "",
     "delete_cmd_prefix": "del ",
     "library": "var_list.py",
     "varRefreshCmd": "print(var_dic_list())"
    },
    "r": {
     "delete_cmd_postfix": ") ",
     "delete_cmd_prefix": "rm(",
     "library": "var_list.r",
     "varRefreshCmd": "cat(var_dic_list()) "
    }
   },
   "types_to_exclude": [
    "module",
    "function",
    "builtin_function_or_method",
    "instance",
    "_Feature"
   ],
   "window_display": false
  }
 },
 "nbformat": 4,
 "nbformat_minor": 2
}