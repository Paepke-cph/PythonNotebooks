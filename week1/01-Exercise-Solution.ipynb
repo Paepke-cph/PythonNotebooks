{
 "cells": [
  {
   "cell_type": "markdown",
   "metadata": {},
   "source": [
    "# Exercise Week 1\n",
    "\n",
    "1. Create 5 list comprehensions to solve the following 5 problems:\n",
    "  1. Iterate a list of names to return a list of the names starting with H\n",
    "  2. In one line create a list of the numbers 1-100 to the power of 3\n",
    "  3. Iterate a list of names to create a list of tuples where the tuples first value is the length of the name and the second is the name\n",
    "  4. Iterate over each character in a string and get only those that are nummeric\n",
    "  5. Using only a list comprehension wrapped in set() get all possible combination from throwing 2 dice (hint use 2 for loops in a single list        comprehension)\n",
    "\n",
    "2. Create 2 dictionary comprehensions to solve the following:\n",
    "  1. Iterate a list of names and create a dictionary where key is the name and value is the length of the name\n",
    "  2. Iterate a list of numbers and create a dictionary with {key:value} being {number:squareroot_of_number}\n",
    "\n",
    "3. Extra assignment (This one goes beyond what is covered in the course notebooks. So only do it if you want an extra challenge).\n",
    "  - Progammatically using loops create a small program to produce a dictionary with all the 2 dice throw combinations as keys and their likelyhood in percent as values"
   ]
  },
  {
   "cell_type": "markdown",
   "metadata": {},
   "source": [
    "# Exercise 1"
   ]
  },
  {
   "cell_type": "code",
   "execution_count": 45,
   "metadata": {},
   "outputs": [],
   "source": [
    "# Imports\n",
    "import math\n",
    "# Global variables used across multiple cells.\n",
    "names = [\"Berniece\",\"Jessica\",\"Mandy\",\"Hansen\",\"Glory\", \"Hamil\",\"Hanne\",\"henrik\"]\n",
    "aString = \"this123IsAStringWith45678numeric90valusinit\"\n",
    "numbers = [x for x in range(10)]"
   ]
  },
  {
   "cell_type": "code",
   "execution_count": 46,
   "metadata": {
    "tags": []
   },
   "outputs": [
    {
     "output_type": "stream",
     "name": "stdout",
     "text": "Names starting with h: ['Hansen', 'Hamil', 'Hanne']\n"
    }
   ],
   "source": [
    "# 1.1\n",
    "hNames = [h for h in names if h[0] == \"H\"]\n",
    "print(\"Names starting with h:\",hNames)\n",
    "# Note that henrik will not be in the new list, because it does not have the uppercase H, but instead the lowercase."
   ]
  },
  {
   "cell_type": "code",
   "execution_count": 47,
   "metadata": {
    "tags": []
   },
   "outputs": [
    {
     "output_type": "stream",
     "name": "stdout",
     "text": "Power of three: [1, 8, 27, 64, 125, 216, 343, 512, 729, 1000, 1331, 1728, 2197, 2744, 3375, 4096, 4913, 5832, 6859, 8000, 9261, 10648, 12167, 13824, 15625, 17576, 19683, 21952, 24389, 27000, 29791, 32768, 35937, 39304, 42875, 46656, 50653, 54872, 59319, 64000, 68921, 74088, 79507, 85184, 91125, 97336, 103823, 110592, 117649, 125000, 132651, 140608, 148877, 157464, 166375, 175616, 185193, 195112, 205379, 216000, 226981, 238328, 250047, 262144, 274625, 287496, 300763, 314432, 328509, 343000, 357911, 373248, 389017, 405224, 421875, 438976, 456533, 474552, 493039, 512000, 531441, 551368, 571787, 592704, 614125, 636056, 658503, 681472, 704969, 729000, 753571, 778688, 804357, 830584, 857375, 884736, 912673, 941192, 970299, 1000000]\n"
    }
   ],
   "source": [
    "# 1.2\n",
    "powerOfThree = [x**3 for x in range(1,101)]\n",
    "print(\"Power of three:\", powerOfThree)"
   ]
  },
  {
   "cell_type": "code",
   "execution_count": 48,
   "metadata": {
    "tags": []
   },
   "outputs": [
    {
     "output_type": "stream",
     "name": "stdout",
     "text": "Name and Length: [('Berniece', 8), ('Jessica', 7), ('Mandy', 5), ('Hansen', 6), ('Glory', 5), ('Hamil', 5), ('Hanne', 5), ('henrik', 6)]\n"
    }
   ],
   "source": [
    "# 1.3\n",
    "nameAndLength = [(x,len(x)) for x in names]\n",
    "print(\"Name and Length:\", nameAndLength)"
   ]
  },
  {
   "cell_type": "code",
   "execution_count": 49,
   "metadata": {
    "tags": []
   },
   "outputs": [
    {
     "output_type": "stream",
     "name": "stdout",
     "text": "Numeric values: ['1', '2', '3', '4', '5', '6', '7', '8', '9', '0']\n"
    }
   ],
   "source": [
    "# 1.4\n",
    "numericValues = [x for x in aString if x.isdigit()]\n",
    "print(\"Numeric values:\", numericValues)"
   ]
  },
  {
   "cell_type": "code",
   "execution_count": 50,
   "metadata": {
    "tags": []
   },
   "outputs": [
    {
     "output_type": "stream",
     "name": "stdout",
     "text": "Combinations: {(5, 1), (3, 1), (1, 1), (6, 1), (5, 3), (3, 3), (1, 3), (2, 4), (6, 3), (5, 5), (3, 5), (1, 5), (2, 6), (6, 5), (1, 2), (6, 2), (4, 2), (3, 4), (2, 2), (1, 4), (6, 4), (4, 4), (3, 6), (1, 6), (6, 6), (4, 6), (4, 1), (2, 1), (5, 2), (3, 2), (4, 3), (2, 3), (5, 4), (4, 5), (2, 5), (5, 6)}\nNumber of combinations: 36\n"
    }
   ],
   "source": [
    "# 1.5\n",
    "diceRange = range(1,7)\n",
    "combinations = set([(x,y) for x in diceRange for y in diceRange])\n",
    "print(\"Combinations:\", combinations)\n",
    "print(\"Number of combinations:\", len(combinations))\n"
   ]
  },
  {
   "cell_type": "markdown",
   "metadata": {},
   "source": [
    "# Exercise 2"
   ]
  },
  {
   "cell_type": "code",
   "execution_count": 51,
   "metadata": {
    "tags": []
   },
   "outputs": [
    {
     "output_type": "stream",
     "name": "stdout",
     "text": "{'Berniece': 8, 'Jessica': 7, 'Mandy': 5, 'Hansen': 6, 'Glory': 5, 'Hamil': 5, 'Hanne': 5, 'henrik': 6}\n"
    }
   ],
   "source": [
    "# 2.1\n",
    "nameDictionary = {n:len(n) for n in names}\n",
    "print(nameDictionary)"
   ]
  },
  {
   "cell_type": "code",
   "execution_count": 52,
   "metadata": {
    "tags": []
   },
   "outputs": [
    {
     "output_type": "stream",
     "name": "stdout",
     "text": "{0: 0.0, 1: 1.0, 2: 1.4142135623730951, 3: 1.7320508075688772, 4: 2.0, 5: 2.23606797749979, 6: 2.449489742783178, 7: 2.6457513110645907, 8: 2.8284271247461903, 9: 3.0}\n"
    }
   ],
   "source": [
    "# 2.2\n",
    "squareMap = {x:math.sqrt(x) for x in numbers}\n",
    "print(squareMap)"
   ]
  },
  {
   "cell_type": "markdown",
   "metadata": {},
   "source": [
    "# Exercise 3"
   ]
  },
  {
   "cell_type": "code",
   "execution_count": 53,
   "metadata": {
    "tags": []
   },
   "outputs": [
    {
     "output_type": "stream",
     "name": "stdout",
     "text": "(1, 1) 2.7777777777777777\n(1, 2) 5.555555555555555\n(1, 3) 8.333333333333332\n(1, 4) 11.11111111111111\n(1, 5) 13.88888888888889\n(1, 6) 16.666666666666664\n(2, 1) 5.555555555555555\n(2, 2) 8.333333333333332\n(2, 3) 11.11111111111111\n(2, 4) 13.88888888888889\n(2, 5) 16.666666666666664\n(2, 6) 13.88888888888889\n(3, 1) 8.333333333333332\n(3, 2) 11.11111111111111\n(3, 3) 13.88888888888889\n(3, 4) 16.666666666666664\n(3, 5) 13.88888888888889\n(3, 6) 11.11111111111111\n(4, 1) 11.11111111111111\n(4, 2) 13.88888888888889\n(4, 3) 16.666666666666664\n(4, 4) 13.88888888888889\n(4, 5) 11.11111111111111\n(4, 6) 8.333333333333332\n(5, 1) 13.88888888888889\n(5, 2) 16.666666666666664\n(5, 3) 13.88888888888889\n(5, 4) 11.11111111111111\n(5, 5) 8.333333333333332\n(5, 6) 5.555555555555555\n(6, 1) 16.666666666666664\n(6, 2) 13.88888888888889\n(6, 3) 11.11111111111111\n(6, 4) 8.333333333333332\n(6, 5) 5.555555555555555\n(6, 6) 2.7777777777777777\n"
    }
   ],
   "source": [
    "# 3.1\n",
    "numberOfDice = 2\n",
    "diceRange = range(1,7)\n",
    "diceCombinations = len(diceRange)**numberOfDice \n",
    "\n",
    "# Fill the dict\n",
    "dice_dict = {}\n",
    "for x in diceRange:\n",
    "    for y in diceRange:\n",
    "        targetValue = x + y\n",
    "        hits = 0\n",
    "        for d1 in diceRange:\n",
    "            for d2 in diceRange:\n",
    "                if(d1+d2 == targetValue):\n",
    "                    hits += 1\n",
    "        dice_dict[(x,y)] = hits / diceCombinations\n",
    "\n",
    "# Print the dict\n",
    "for key in dice_dict:\n",
    "    print(key, dice_dict[key])"
   ]
  }
 ],
 "metadata": {
  "kernelspec": {
   "display_name": "Python 3.8.4 32-bit",
   "language": "python",
   "name": "python_defaultSpec_1598857542410"
  },
  "language_info": {
   "codemirror_mode": {
    "name": "ipython",
    "version": 3
   },
   "file_extension": ".py",
   "mimetype": "text/x-python",
   "name": "python",
   "nbconvert_exporter": "python",
   "pygments_lexer": "ipython3",
   "version": "3.8.4-final"
  }
 },
 "nbformat": 4,
 "nbformat_minor": 2
}