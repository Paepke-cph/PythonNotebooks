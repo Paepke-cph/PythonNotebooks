{
 "cells": [
  {
   "cell_type": "code",
   "execution_count": 5,
   "metadata": {},
   "outputs": [
    {
     "name": "stdout",
     "output_type": "stream",
     "text": [
      "[]\n",
      "[]\n"
     ]
    }
   ],
   "source": [
    "import bs4\n",
    "import requests\n",
    "\n",
    "url = \"https://socialblade.com/youtube/top/country/~/mostviewed\"\n",
    "countries = [\"Denmark\",\"Finland\",\"Iceland\",\"Norway\",\"Sweden\"]\n",
    "country_codes = [\"dk\",\"fi\",\"is\",\"no\",\"se\"]\n",
    "\n",
    "def insert_country_code(url,country_code):\n",
    "    newUrl = url.replace(\"~\",country_code)\n",
    "    return newUrl\n",
    "\n",
    "def get_country_codes():\n",
    "    country_codes = []\n",
    "    req = requests.get(\"https://socialblade.com/youtube/top\")\n",
    "    soup = bs4.BeautifulSoup(req.text, 'html.parser')\n",
    "    options = soup.findAll('select',{'id':'CountrySelectorSidebar'})\n",
    "    print(options)\n",
    "    for option in options:\n",
    "        for country in countries:\n",
    "            if(option.get_text() == country):\n",
    "                country_codes.push(option.select(\"value\"))\n",
    "    return country_codes\n",
    "\n",
    "print(get_country_codes())\n",
    "\n",
    "r = requests.get(insert_country_code(url,country_codes[0]))\n",
    "#r.raise_for_status()\n",
    "soup = bs4.BeautifulSoup(r.text, 'html.parser')\n",
    "\n",
    "divs = soup.select('div')\n",
    "for div in divs:\n",
    "    inner_divs = div.findChildren('div')\n",
    "    print(div)\n",
    "    if(len(inner_divs) >= 6):\n",
    "        print(div)\n"
   ]
  },
  {
   "cell_type": "code",
   "execution_count": null,
   "metadata": {},
   "outputs": [],
   "source": []
  },
  {
   "cell_type": "code",
   "execution_count": null,
   "metadata": {},
   "outputs": [],
   "source": []
  }
 ],
 "metadata": {
  "kernelspec": {
   "display_name": "Python 3",
   "language": "python",
   "name": "python3"
  },
  "language_info": {
   "codemirror_mode": {
    "name": "ipython",
    "version": 3
   },
   "file_extension": ".py",
   "mimetype": "text/x-python",
   "name": "python",
   "nbconvert_exporter": "python",
   "pygments_lexer": "ipython3",
   "version": "3.7.6"
  }
 },
 "nbformat": 4,
 "nbformat_minor": 4
}
