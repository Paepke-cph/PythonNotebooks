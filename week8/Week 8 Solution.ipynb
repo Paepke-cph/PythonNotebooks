{
 "cells": [
  {
   "cell_type": "code",
   "execution_count": 14,
   "metadata": {},
   "outputs": [
    {
     "name": "stdout",
     "output_type": "stream",
     "text": [
      "Datamatiker jobs in \n",
      "                Storkøbenhavn: 13\n",
      "Datamatiker jobs in \n",
      "                Nordsjælland: 5\n",
      "Datamatiker jobs in \n",
      "                Region Sjælland: 2\n",
      "Datamatiker jobs in \n",
      "                Fyn: 6\n",
      "Datamatiker jobs in \n",
      "                Region Nordjylland: 5\n",
      "Datamatiker jobs in \n",
      "                Region Midtjylland: 11\n",
      "Datamatiker jobs in \n",
      "                Sydjylland: 4\n",
      "Datamatiker jobs in \n",
      "                Bornholm: 0\n",
      "Datamatiker jobs in \n",
      "                Skåne: 0\n",
      "Datamatiker jobs in \n",
      "                Grønland: 0\n",
      "Datamatiker jobs in \n",
      "                Færøerne: 0\n",
      "Datamatiker jobs in \n",
      "                Udlandet: 0\n",
      "Datamatiker jobs in \n",
      "                Danmark: 42\n"
     ]
    }
   ],
   "source": [
    "import bs4\n",
    "import requests\n",
    "import re\n",
    "\n",
    "url = \"https://www.jobindex.dk/jobsoegning?q=Datamatiker\"\n",
    "r = requests.get(url)\n",
    "soup = bs4.BeautifulSoup(r.text, 'html.parser')\n",
    "\n",
    "areas = soup.select('.area_label')\n",
    "for a in areas:\n",
    "    digitIndex = re.search(r\"\\d\", a.text).start()\n",
    "    first = a.text[0:digitIndex]\n",
    "    second = a.text[digitIndex:]\n",
    "    print(f'Datamatiker jobs in {first}: {second}')\n",
    "    "
   ]
  },
  {
   "cell_type": "code",
   "execution_count": 21,
   "metadata": {},
   "outputs": [
    {
     "name": "stdout",
     "output_type": "stream",
     "text": [
      "2020-11-17 20:30:09,090 INFO sqlalchemy.engine.base.Engine SELECT CAST('test plain returns' AS VARCHAR(60)) AS anon_1\n",
      "2020-11-17 20:30:09,092 INFO sqlalchemy.engine.base.Engine ()\n",
      "2020-11-17 20:30:09,095 INFO sqlalchemy.engine.base.Engine SELECT CAST('test unicode returns' AS VARCHAR(60)) AS anon_1\n",
      "2020-11-17 20:30:09,099 INFO sqlalchemy.engine.base.Engine ()\n",
      "2020-11-17 20:30:09,106 INFO sqlalchemy.engine.base.Engine CREATE TABLE jobs(id INTEGER, name VARCHAR, number INTEGER)\n",
      "2020-11-17 20:30:09,109 INFO sqlalchemy.engine.base.Engine ()\n",
      "2020-11-17 20:30:09,111 INFO sqlalchemy.engine.base.Engine COMMIT\n",
      "2020-11-17 20:30:09,113 INFO sqlalchemy.engine.base.Engine INSERT INTO jobs(id,name,number) VALUES (0,\"\n",
      "                Storkøbenhavn\",13)\n",
      "2020-11-17 20:30:09,115 INFO sqlalchemy.engine.base.Engine ()\n",
      "2020-11-17 20:30:09,118 INFO sqlalchemy.engine.base.Engine COMMIT\n",
      "2020-11-17 20:30:09,120 INFO sqlalchemy.engine.base.Engine INSERT INTO jobs(id,name,number) VALUES (1,\"\n",
      "                Nordsjælland\",5)\n",
      "2020-11-17 20:30:09,125 INFO sqlalchemy.engine.base.Engine ()\n",
      "2020-11-17 20:30:09,129 INFO sqlalchemy.engine.base.Engine COMMIT\n",
      "2020-11-17 20:30:09,136 INFO sqlalchemy.engine.base.Engine INSERT INTO jobs(id,name,number) VALUES (2,\"\n",
      "                Region Sjælland\",2)\n",
      "2020-11-17 20:30:09,141 INFO sqlalchemy.engine.base.Engine ()\n",
      "2020-11-17 20:30:09,148 INFO sqlalchemy.engine.base.Engine COMMIT\n",
      "2020-11-17 20:30:09,150 INFO sqlalchemy.engine.base.Engine INSERT INTO jobs(id,name,number) VALUES (3,\"\n",
      "                Fyn\",6)\n",
      "2020-11-17 20:30:09,152 INFO sqlalchemy.engine.base.Engine ()\n",
      "2020-11-17 20:30:09,160 INFO sqlalchemy.engine.base.Engine COMMIT\n",
      "2020-11-17 20:30:09,174 INFO sqlalchemy.engine.base.Engine INSERT INTO jobs(id,name,number) VALUES (4,\"\n",
      "                Region Nordjylland\",5)\n",
      "2020-11-17 20:30:09,177 INFO sqlalchemy.engine.base.Engine ()\n",
      "2020-11-17 20:30:09,182 INFO sqlalchemy.engine.base.Engine COMMIT\n",
      "2020-11-17 20:30:09,185 INFO sqlalchemy.engine.base.Engine INSERT INTO jobs(id,name,number) VALUES (5,\"\n",
      "                Region Midtjylland\",11)\n",
      "2020-11-17 20:30:09,187 INFO sqlalchemy.engine.base.Engine ()\n",
      "2020-11-17 20:30:09,189 INFO sqlalchemy.engine.base.Engine COMMIT\n",
      "2020-11-17 20:30:09,191 INFO sqlalchemy.engine.base.Engine INSERT INTO jobs(id,name,number) VALUES (6,\"\n",
      "                Sydjylland\",4)\n",
      "2020-11-17 20:30:09,204 INFO sqlalchemy.engine.base.Engine ()\n",
      "2020-11-17 20:30:09,208 INFO sqlalchemy.engine.base.Engine COMMIT\n",
      "2020-11-17 20:30:09,223 INFO sqlalchemy.engine.base.Engine INSERT INTO jobs(id,name,number) VALUES (7,\"\n",
      "                Bornholm\",0)\n",
      "2020-11-17 20:30:09,226 INFO sqlalchemy.engine.base.Engine ()\n",
      "2020-11-17 20:30:09,240 INFO sqlalchemy.engine.base.Engine COMMIT\n",
      "2020-11-17 20:30:09,242 INFO sqlalchemy.engine.base.Engine INSERT INTO jobs(id,name,number) VALUES (8,\"\n",
      "                Skåne\",0)\n",
      "2020-11-17 20:30:09,257 INFO sqlalchemy.engine.base.Engine ()\n",
      "2020-11-17 20:30:09,272 INFO sqlalchemy.engine.base.Engine COMMIT\n",
      "2020-11-17 20:30:09,274 INFO sqlalchemy.engine.base.Engine INSERT INTO jobs(id,name,number) VALUES (9,\"\n",
      "                Grønland\",0)\n",
      "2020-11-17 20:30:09,275 INFO sqlalchemy.engine.base.Engine ()\n",
      "2020-11-17 20:30:09,281 INFO sqlalchemy.engine.base.Engine COMMIT\n",
      "2020-11-17 20:30:09,284 INFO sqlalchemy.engine.base.Engine INSERT INTO jobs(id,name,number) VALUES (10,\"\n",
      "                Færøerne\",0)\n",
      "2020-11-17 20:30:09,291 INFO sqlalchemy.engine.base.Engine ()\n",
      "2020-11-17 20:30:09,296 INFO sqlalchemy.engine.base.Engine COMMIT\n",
      "2020-11-17 20:30:09,298 INFO sqlalchemy.engine.base.Engine INSERT INTO jobs(id,name,number) VALUES (11,\"\n",
      "                Udlandet\",0)\n",
      "2020-11-17 20:30:09,305 INFO sqlalchemy.engine.base.Engine ()\n",
      "2020-11-17 20:30:09,309 INFO sqlalchemy.engine.base.Engine COMMIT\n",
      "2020-11-17 20:30:09,313 INFO sqlalchemy.engine.base.Engine INSERT INTO jobs(id,name,number) VALUES (12,\"\n",
      "                Danmark\",42)\n",
      "2020-11-17 20:30:09,316 INFO sqlalchemy.engine.base.Engine ()\n",
      "2020-11-17 20:30:09,322 INFO sqlalchemy.engine.base.Engine COMMIT\n"
     ]
    }
   ],
   "source": [
    "import sqlalchemy  as s_a\n",
    "\n",
    "engine = s_a.create_engine('sqlite:///:memory:', echo=True)\n",
    "conn = engine.connect()\n",
    "conn.execute('CREATE TABLE jobs(id INTEGER, name VARCHAR, number INTEGER)')\n",
    "\n",
    "counter = 0;\n",
    "for a in areas:\n",
    "    digitIndex = re.search(r\"\\d\", a.text).start()\n",
    "    first = a.text[0:digitIndex]\n",
    "    second = a.text[digitIndex:]\n",
    "    conn.execute(f'INSERT INTO jobs(id,name,number) VALUES ({counter},\"{first}\",{second})')\n",
    "    counter+=1"
   ]
  },
  {
   "cell_type": "code",
   "execution_count": 24,
   "metadata": {},
   "outputs": [
    {
     "name": "stdout",
     "output_type": "stream",
     "text": [
      "2020-11-17 20:34:32,447 INFO sqlalchemy.engine.base.Engine SELECT * from jobs\n",
      "2020-11-17 20:34:32,450 INFO sqlalchemy.engine.base.Engine ()\n",
      " * Serving Flask app \"__main__\" (lazy loading)\n",
      " * Environment: production\n",
      "   WARNING: Do not use the development server in a production environment.\n",
      "   Use a production WSGI server instead.\n",
      " * Debug mode: on\n"
     ]
    },
    {
     "name": "stderr",
     "output_type": "stream",
     "text": [
      " * Running on http://127.0.0.1:5000/ (Press CTRL+C to quit)\n",
      " * Restarting with stat\n"
     ]
    },
    {
     "ename": "SystemExit",
     "evalue": "1",
     "output_type": "error",
     "traceback": [
      "An exception has occurred, use %tb to see the full traceback.\n",
      "\u001b[0;31mSystemExit\u001b[0m\u001b[0;31m:\u001b[0m 1\n"
     ]
    },
    {
     "name": "stderr",
     "output_type": "stream",
     "text": [
      "/opt/conda/lib/python3.7/site-packages/IPython/core/interactiveshell.py:3339: UserWarning: To exit: use 'exit', 'quit', or Ctrl-D.\n",
      "  warn(\"To exit: use 'exit', 'quit', or Ctrl-D.\", stacklevel=1)\n"
     ]
    }
   ],
   "source": [
    "result = conn.execute('SELECT * from jobs')\n",
    "from flask import Flask\n",
    "\n",
    "app = Flask(__name__)\n",
    "@app.route('/', methods=['GET'])\n",
    "def index():\n",
    "    out = '<table style=\"width:100%\"><tr><th>id</th><th>Area</th><th>Number</th></table>'\n",
    "    for row in result:\n",
    "        out += f'<tr><td>{row[0]}</td><td>{row[1]}</td><td>{row[2]}</td></tr>'  \n",
    "    return out\n",
    "if __name__ == '__main__':\n",
    "    app.run(debug=True)"
   ]
  },
  {
   "cell_type": "code",
   "execution_count": null,
   "metadata": {},
   "outputs": [],
   "source": []
  }
 ],
 "metadata": {
  "kernelspec": {
   "display_name": "Python 3",
   "language": "python",
   "name": "python3"
  },
  "language_info": {
   "codemirror_mode": {
    "name": "ipython",
    "version": 3
   },
   "file_extension": ".py",
   "mimetype": "text/x-python",
   "name": "python",
   "nbconvert_exporter": "python",
   "pygments_lexer": "ipython3",
   "version": "3.7.6"
  }
 },
 "nbformat": 4,
 "nbformat_minor": 4
}
