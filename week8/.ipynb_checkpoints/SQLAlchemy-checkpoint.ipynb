{
 "cells": [
  {
   "cell_type": "code",
   "execution_count": 1,
   "metadata": {},
   "outputs": [],
   "source": [
    "import sqlalchemy as s_a\n",
    "from sqlalchemy.orm import sessionmaker, relationship\n",
    "from sqlalchemy.ext.declarative import declarative_base\n",
    "\n",
    "engine = s_a.create_engine('sqlite:///:memory:', echo=False)\n",
    "connection = engine.connect()\n",
    "\n",
    "#connection.execute('CREATE TABLE \"EX1\" ('\n",
    "#                   'id INTEGER NOT NULL,'\n",
    "#                   'name VARCHAR,'\n",
    "#                   'PRIMARY KEY (id));')\n",
    "#\n",
    "#transaction = connection.begin()\n",
    "#connection.execute('INSERT INTO \"EX1\" (name) VALUES (\"TEST1\")')\n",
    "#connection.execute('INSERT INTO \"EX1\" (name) VALUES (\"TEST2\")')\n",
    "#connection.execute('INSERT INTO \"EX1\" (name) VALUES (\"TEST3\")')\n",
    "#connection.execute('INSERT INTO \"EX1\" (name) VALUES (\"TEST4\")')\n",
    "#transaction.commit()\n",
    "\n",
    "Session = sessionmaker(bind=engine)\n",
    "session = Session()"
   ]
  },
  {
   "cell_type": "code",
   "execution_count": 2,
   "metadata": {},
   "outputs": [],
   "source": [
    "#Using classes to define tables in the DB.\n",
    "Base = declarative_base()\n",
    "\n",
    "class Product(Base):\n",
    "    __tablename__ = 'product'\n",
    "    \n",
    "    id = s_a.Column(s_a.Integer, primary_key=True)\n",
    "    name = s_a.Column(s_a.String)\n",
    "    user_id = s_a.Column(s_a.Integer, s_a.ForeignKey('user.id'))\n",
    "    user = relationship('User')\n",
    "\n",
    "class User(Base):\n",
    "    __tablename__ = 'user'\n",
    "    id = s_a.Column(s_a.Integer, primary_key=True)\n",
    "    name = s_a.Column(s_a.String)\n",
    "    password = s_a.Column(s_a.String)\n",
    "    products = relationship(Product, backref=\"users\")\n",
    "    \n",
    "    def __repr(self):\n",
    "        return f'User {self.name}'\n",
    "    \n",
    "Base.metadata.create_all(engine)\n",
    "\n",
    "user = User(name='Peter Nielsen', password='superSecret')\n",
    "session.add(user)\n",
    "user2 = User(name='John Doe', password='thisisaverysecretpassword')\n",
    "session.add(user2)\n",
    "session.commit()"
   ]
  },
  {
   "cell_type": "code",
   "execution_count": null,
   "metadata": {},
   "outputs": [],
   "source": [
    "product = Product(name='Hammer', user=user2)\n",
    "session.add(product)\n",
    "session.commit()\n",
    "\n"
   ]
  },
  {
   "cell_type": "code",
   "execution_count": null,
   "metadata": {},
   "outputs": [],
   "source": []
  }
 ],
 "metadata": {
  "kernelspec": {
   "display_name": "Python 3",
   "language": "python",
   "name": "python3"
  },
  "language_info": {
   "codemirror_mode": {
    "name": "ipython",
    "version": 3
   },
   "file_extension": ".py",
   "mimetype": "text/x-python",
   "name": "python",
   "nbconvert_exporter": "python",
   "pygments_lexer": "ipython3",
   "version": "3.7.6"
  }
 },
 "nbformat": 4,
 "nbformat_minor": 4
}
